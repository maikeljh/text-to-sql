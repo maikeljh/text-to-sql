{
 "cells": [
  {
   "cell_type": "markdown",
   "id": "d77c5174",
   "metadata": {},
   "source": [
    "# Import Libraries"
   ]
  },
  {
   "cell_type": "code",
   "execution_count": null,
   "id": "5a7f05a7",
   "metadata": {},
   "outputs": [],
   "source": [
    "import sys\n",
    "import os\n",
    "\n",
    "notebook_dir = os.getcwd()\n",
    "parent_dir = os.path.abspath(os.path.join(notebook_dir, '..'))\n",
    "\n",
    "if parent_dir not in sys.path:\n",
    "    sys.path.insert(0, parent_dir)"
   ]
  },
  {
   "cell_type": "code",
   "execution_count": null,
   "id": "d91f960c",
   "metadata": {},
   "outputs": [],
   "source": [
    "from text_to_sql import LLMConfig\n",
    "from core import GeneralLLM\n",
    "from dotenv import load_dotenv\n",
    "import pandas as pd"
   ]
  },
  {
   "cell_type": "code",
   "execution_count": null,
   "id": "9a7bd6e3",
   "metadata": {},
   "outputs": [],
   "source": [
    "load_dotenv()"
   ]
  },
  {
   "cell_type": "markdown",
   "id": "f22db6ee",
   "metadata": {},
   "source": [
    "# Constants"
   ]
  },
  {
   "cell_type": "code",
   "execution_count": null,
   "id": "5c13dbc3",
   "metadata": {},
   "outputs": [],
   "source": [
    "MODEL = \"deepseek-chat\"\n",
    "PROVIDER = \"deepseek\""
   ]
  },
  {
   "cell_type": "markdown",
   "id": "46b3c133",
   "metadata": {},
   "source": [
    "# Import Dataset"
   ]
  },
  {
   "cell_type": "code",
   "execution_count": null,
   "id": "f833bbf0",
   "metadata": {},
   "outputs": [],
   "source": [
    "dataset = pd.read_csv(f\"../files/dataset/dataset_intent.csv\")"
   ]
  },
  {
   "cell_type": "code",
   "execution_count": null,
   "id": "d555dad2",
   "metadata": {},
   "outputs": [],
   "source": [
    "dataset"
   ]
  },
  {
   "cell_type": "markdown",
   "id": "5a36a8a0",
   "metadata": {},
   "source": [
    "# Initialize LLM"
   ]
  },
  {
   "cell_type": "code",
   "execution_count": null,
   "id": "a95d6b81",
   "metadata": {},
   "outputs": [],
   "source": [
    "# Configurations\n",
    "provider_key = PROVIDER.upper().replace(\"-\", \"_\")\n",
    "general_config = LLMConfig(\n",
    "    type=\"api\",\n",
    "    model=MODEL,\n",
    "    provider=PROVIDER,\n",
    "    api_key=os.getenv(f\"API_KEY_{provider_key}\"),\n",
    ")\n",
    "\n",
    "# Initialize agents\n",
    "llm_agent = GeneralLLM(config=general_config)"
   ]
  },
  {
   "cell_type": "markdown",
   "id": "c5e16e1c",
   "metadata": {},
   "source": [
    "# Define Function"
   ]
  },
  {
   "cell_type": "code",
   "execution_count": null,
   "id": "1e7ab964",
   "metadata": {},
   "outputs": [],
   "source": [
    "def detect_intent_tool_baseline(query, llm_agent):\n",
    "    \"\"\"\n",
    "    Baseline: Directly ask the model if the query is about data retrieval.\n",
    "    Return 1 for 'data' intent, 0 for 'other' (no explanation, no reasoning).\n",
    "    \"\"\"\n",
    "\n",
    "    system_prompt = \"Classify this query as '1' if it's about retrieving data from a database, or '0' if not.\"\n",
    "    user_prompt = f\"Query: {query}\\nAnswer:\"\n",
    "\n",
    "    result = llm_agent.generate(system_prompt=system_prompt.strip(), user_prompt=user_prompt.strip())\n",
    "    final = result.strip()\n",
    "\n",
    "    if final not in [\"0\", \"1\"]:\n",
    "        final = \"1\"\n",
    "\n",
    "    return int(final)"
   ]
  },
  {
   "cell_type": "code",
   "execution_count": null,
   "id": "70a0b576",
   "metadata": {},
   "outputs": [],
   "source": [
    "def detect_intent_tool(query, llm_agent):\n",
    "    \"\"\"\n",
    "    Detect whether the query is about retrieving data from a database (for SQL generation).\n",
    "    Return 'data' if it is, otherwise 'other'.\n",
    "    \"\"\"\n",
    "\n",
    "    system_prompt = f\"\"\"\n",
    "    You are an expert assistant that decides if a user query is asking to retrieve data from a database.\n",
    "    Return ONLY one of the following labels:\n",
    "\n",
    "    - data: if the query is asking about facts, entities, statistics, filters, aggregations, rankings, comparisons, counts, sums, averages, or any structured information that could be stored in tables\n",
    "    - other: if the query is not about retrieving data (e.g., definitions, instructions, general advice, or how-to questions)\n",
    "\n",
    "    THINK STEP BY STEP:\n",
    "    1. Does the query ask for specific information that could be stored in database tables?\n",
    "    2. Would answering this require looking up records or performing calculations on stored data?\n",
    "    3. If yes to either, it's 'data'\n",
    "\n",
    "    Here are some EXAMPLES:\n",
    "\n",
    "    Query: Which actors have the first name 'Scarlett'?  \n",
    "    → data (lookup in actor table)\n",
    "\n",
    "    Query: How many distinct actor last names are there?  \n",
    "    → data (count operation)\n",
    "\n",
    "    Query: What is SQL?  \n",
    "    → other (definition)\n",
    "\n",
    "    Query: What does SELECT do in SQL?  \n",
    "    → other (explanation)\n",
    "\n",
    "    Query: Which customers rented more than 3 categories?  \n",
    "    → data (filtering and counting)\n",
    "\n",
    "    Query: Compare sales between 2022 and 2023  \n",
    "    → data (comparison of stored data)\n",
    "\n",
    "    Query: How do I write a JOIN query?  \n",
    "    → other (instruction)\n",
    "\n",
    "    Query: What's the average salary by department?  \n",
    "    → data (aggregation)\n",
    "\n",
    "    Now, based on the query below, return only `data` or `other` (lowercase only — no explanation).\n",
    "\n",
    "    Query:\n",
    "    \\\"\\\"\\\"{query}\\\"\\\"\\\"\n",
    "    \"\"\"\n",
    "\n",
    "    result = llm_agent.generate(system_prompt=system_prompt.strip(), user_prompt=\"\")\n",
    "    final = result.strip().lower()\n",
    "\n",
    "    if final not in [\"data\", \"other\"]:\n",
    "        final = \"data\"\n",
    "\n",
    "    if final == \"data\":\n",
    "        return 1\n",
    "    else:\n",
    "        return 0"
   ]
  },
  {
   "cell_type": "markdown",
   "id": "3798a784",
   "metadata": {},
   "source": [
    "# Experiment"
   ]
  },
  {
   "cell_type": "markdown",
   "id": "482abd01",
   "metadata": {},
   "source": [
    "## Baseline"
   ]
  },
  {
   "cell_type": "code",
   "execution_count": null,
   "id": "bd1cc694",
   "metadata": {},
   "outputs": [],
   "source": [
    "predictions = []\n",
    "for _, row in dataset.iterrows():\n",
    "    prediction = detect_intent_tool_baseline(row[\"prompt\"], llm_agent)\n",
    "    predictions.append(prediction)\n",
    "\n",
    "dataset[\"predicted_is_related_baseline\"] = predictions\n",
    "\n",
    "accuracy = (dataset[\"predicted_is_related_baseline\"] == dataset[\"is_related\"]).mean()\n",
    "print(f\"Baseline Accuracy: {accuracy:.2%}\")"
   ]
  },
  {
   "cell_type": "markdown",
   "id": "340bf38e",
   "metadata": {},
   "source": [
    "## With Prompt Engineering"
   ]
  },
  {
   "cell_type": "code",
   "execution_count": null,
   "id": "fab1b10c",
   "metadata": {},
   "outputs": [],
   "source": [
    "predictions = []\n",
    "for _, row in dataset.iterrows():\n",
    "    prediction = detect_intent_tool(row[\"prompt\"], llm_agent)\n",
    "    predictions.append(prediction)\n",
    "\n",
    "dataset[\"predicted_is_related\"] = predictions\n",
    "accuracy = (dataset[\"predicted_is_related\"] == dataset[\"is_related\"]).mean()\n",
    "\n",
    "print(f\"Prompt Engineering Accuracy: {accuracy:.2%}\")"
   ]
  },
  {
   "cell_type": "markdown",
   "id": "bc4392b9",
   "metadata": {},
   "source": [
    "# Save Prediction"
   ]
  },
  {
   "cell_type": "code",
   "execution_count": null,
   "id": "6971d076",
   "metadata": {},
   "outputs": [],
   "source": [
    "dataset.to_csv(f\"../files/experiment_result/intent_detection/{MODEL}-result.csv\", index=False)"
   ]
  }
 ],
 "metadata": {
  "kernelspec": {
   "display_name": "Python 3",
   "language": "python",
   "name": "python3"
  },
  "language_info": {
   "codemirror_mode": {
    "name": "ipython",
    "version": 3
   },
   "file_extension": ".py",
   "mimetype": "text/x-python",
   "name": "python",
   "nbconvert_exporter": "python",
   "pygments_lexer": "ipython3",
   "version": "3.9.6"
  }
 },
 "nbformat": 4,
 "nbformat_minor": 5
}
