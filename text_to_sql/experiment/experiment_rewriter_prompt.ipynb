{
 "cells": [
  {
   "cell_type": "markdown",
   "id": "a407158e",
   "metadata": {},
   "source": [
    "# Import Libraries"
   ]
  },
  {
   "cell_type": "code",
   "execution_count": 1,
   "id": "6aeb2a57",
   "metadata": {},
   "outputs": [],
   "source": [
    "import sys\n",
    "import os\n",
    "\n",
    "notebook_dir = os.getcwd()\n",
    "parent_dir = os.path.abspath(os.path.join(notebook_dir, '..'))\n",
    "\n",
    "if parent_dir not in sys.path:\n",
    "    sys.path.insert(0, parent_dir)"
   ]
  },
  {
   "cell_type": "code",
   "execution_count": 2,
   "id": "154e7328",
   "metadata": {},
   "outputs": [
    {
     "name": "stdout",
     "output_type": "stream",
     "text": [
      "WARNING:tensorflow:From c:\\Users\\michj\\AppData\\Local\\Programs\\Python\\Python39\\lib\\site-packages\\tf_keras\\src\\losses.py:2976: The name tf.losses.sparse_softmax_cross_entropy is deprecated. Please use tf.compat.v1.losses.sparse_softmax_cross_entropy instead.\n",
      "\n"
     ]
    }
   ],
   "source": [
    "from text_to_sql import (\n",
    "    TextToSQL,\n",
    "    Config,\n",
    "    LLMConfig,\n",
    "    SLConfig,\n",
    "    ContextConfig,\n",
    "    QueryConfig,\n",
    ")\n",
    "from dotenv import load_dotenv\n",
    "from datetime import datetime\n",
    "\n",
    "import pandas as pd\n",
    "import os"
   ]
  },
  {
   "cell_type": "markdown",
   "id": "6b891f0f",
   "metadata": {},
   "source": [
    "# Constants"
   ]
  },
  {
   "cell_type": "code",
   "execution_count": 3,
   "id": "e526e88a",
   "metadata": {},
   "outputs": [],
   "source": [
    "DATABASE = \"northwind\"\n",
    "MODEL = \"gemini-1.5-pro\"\n",
    "PROVIDER = \"gemini\"\n",
    "TOTAL_TABLES = 14"
   ]
  },
  {
   "cell_type": "markdown",
   "id": "739d3e86",
   "metadata": {},
   "source": [
    "# Load Environment"
   ]
  },
  {
   "cell_type": "code",
   "execution_count": 4,
   "id": "6ccae627",
   "metadata": {},
   "outputs": [
    {
     "data": {
      "text/plain": [
       "True"
      ]
     },
     "execution_count": 4,
     "metadata": {},
     "output_type": "execute_result"
    }
   ],
   "source": [
    "load_dotenv()"
   ]
  },
  {
   "cell_type": "markdown",
   "id": "e59f14d8",
   "metadata": {},
   "source": [
    "# Set Timestamp Experiment"
   ]
  },
  {
   "cell_type": "code",
   "execution_count": 5,
   "id": "40cf4cbc",
   "metadata": {},
   "outputs": [],
   "source": [
    "timestamp = datetime.now().strftime(\"%Y_%m_%d_%H_%M\")\n",
    "output_dir = f\"../files/experiment_result/{timestamp}\"\n",
    "os.makedirs(output_dir, exist_ok=True)"
   ]
  },
  {
   "cell_type": "markdown",
   "id": "c0ee59a2",
   "metadata": {},
   "source": [
    "# Config"
   ]
  },
  {
   "cell_type": "code",
   "execution_count": 6,
   "id": "ebda1ab5",
   "metadata": {},
   "outputs": [],
   "source": [
    "db_key = DATABASE.upper().replace(\"-\", \"_\")\n",
    "provider_key = PROVIDER.upper().replace(\"-\", \"_\")\n",
    "\n",
    "config = Config(\n",
    "    max_retry_attempt=5,\n",
    "    rewriter_config=LLMConfig(\n",
    "        type=\"api\",\n",
    "        model=MODEL,\n",
    "        provider=PROVIDER,\n",
    "        api_key=os.getenv(f\"API_KEY_{provider_key}\"),\n",
    "    ),\n",
    "    query_generator_config=LLMConfig(\n",
    "        type=\"api\",\n",
    "        model=MODEL,\n",
    "        provider=PROVIDER,\n",
    "        api_key=os.getenv(f\"API_KEY_{provider_key}\"),\n",
    "    ),\n",
    "    schema_linker_config=SLConfig(\n",
    "        type=\"api\",\n",
    "        model=MODEL,\n",
    "        provider=PROVIDER,\n",
    "        api_key=os.getenv(f\"API_KEY_{provider_key}\"),\n",
    "        schema_path=f\"../files/schema/{DATABASE}.txt\",\n",
    "        metadata_path=f\"../files/metadata/{DATABASE}.json\",\n",
    "    ),\n",
    "    retrieve_context_config=ContextConfig(data_path=f\"../files/dataset/dataset_{DATABASE}.csv\"),\n",
    "    query_executor_config = QueryConfig(\n",
    "        host=os.getenv(f\"DB_HOST_{db_key}\"),\n",
    "        database=os.getenv(f\"DB_DATABASE_{db_key}\"),\n",
    "        user=os.getenv(f\"DB_USER_{db_key}\"),\n",
    "        password=os.getenv(f\"DB_PASSWORD_{db_key}\"),\n",
    "        port=os.getenv(f\"DB_PORT_{db_key}\"),\n",
    "    ),\n",
    ")"
   ]
  },
  {
   "cell_type": "markdown",
   "id": "b2e43180",
   "metadata": {},
   "source": [
    "# Model"
   ]
  },
  {
   "cell_type": "code",
   "execution_count": 7,
   "id": "a177574c",
   "metadata": {},
   "outputs": [
    {
     "name": "stdout",
     "output_type": "stream",
     "text": [
      "Initializing API client for gemini using model gemini-1.5-pro.\n",
      "Initializing API client for gemini using model gemini-1.5-pro.\n",
      "Initializing API client for gemini using model gemini-1.5-pro.\n"
     ]
    },
    {
     "name": "stderr",
     "output_type": "stream",
     "text": [
      "c:\\Users\\michj\\AppData\\Local\\Programs\\Python\\Python39\\lib\\site-packages\\mlflow\\protos\\service_pb2.py:11: UserWarning: google.protobuf.service module is deprecated. RPC implementations should provide code generator plugins which generate code specific to the RPC implementation. service.py will be removed in Jan 2025\n",
      "  from google.protobuf import service as _service\n"
     ]
    }
   ],
   "source": [
    "text_to_sql_model = TextToSQL(config=config)"
   ]
  },
  {
   "cell_type": "markdown",
   "id": "861f2b16",
   "metadata": {},
   "source": [
    "# Import Dataset"
   ]
  },
  {
   "cell_type": "code",
   "execution_count": 8,
   "id": "f5fc9e59",
   "metadata": {},
   "outputs": [],
   "source": [
    "dataset = pd.read_csv(f\"../files/dataset/dataset_rewriter.csv\")"
   ]
  },
  {
   "cell_type": "code",
   "execution_count": 9,
   "id": "3843490e",
   "metadata": {},
   "outputs": [],
   "source": [
    "dataset[\"tables_used\"] = dataset[\"tables_used\"].apply(eval)"
   ]
  },
  {
   "cell_type": "code",
   "execution_count": 10,
   "id": "b37da254",
   "metadata": {},
   "outputs": [
    {
     "data": {
      "text/html": [
       "<div>\n",
       "<style scoped>\n",
       "    .dataframe tbody tr th:only-of-type {\n",
       "        vertical-align: middle;\n",
       "    }\n",
       "\n",
       "    .dataframe tbody tr th {\n",
       "        vertical-align: top;\n",
       "    }\n",
       "\n",
       "    .dataframe thead th {\n",
       "        text-align: right;\n",
       "    }\n",
       "</style>\n",
       "<table border=\"1\" class=\"dataframe\">\n",
       "  <thead>\n",
       "    <tr style=\"text-align: right;\">\n",
       "      <th></th>\n",
       "      <th>prompt</th>\n",
       "      <th>tables_used</th>\n",
       "    </tr>\n",
       "  </thead>\n",
       "  <tbody>\n",
       "    <tr>\n",
       "      <th>0</th>\n",
       "      <td>hjsz pendapatan kita tahun 1997 berapa59 sih? ...</td>\n",
       "      <td>[order_details, orders]</td>\n",
       "    </tr>\n",
       "    <tr>\n",
       "      <th>1</th>\n",
       "      <td>Tiap yv udah bayar0 ke kita totalnya berapa?26...</td>\n",
       "      <td>[customers, order_details, orders]</td>\n",
       "    </tr>\n",
       "    <tr>\n",
       "      <th>2</th>\n",
       "      <td>kspxm  paling laku dt pendapatan setelah ndion...</td>\n",
       "      <td>[order_details, products]</td>\n",
       "    </tr>\n",
       "    <tr>\n",
       "      <th>3</th>\n",
       "      <td>C~ustomer  UK yang bayar  dari $1000   Tampilk...</td>\n",
       "      <td>[customers, order_details, orders]</td>\n",
       "    </tr>\n",
       "    <tr>\n",
       "      <th>4</th>\n",
       "      <td>B~erapa total pembayaran YANG dilakukan oleh s...</td>\n",
       "      <td>[customers, order_details, orders]</td>\n",
       "    </tr>\n",
       "    <tr>\n",
       "      <th>...</th>\n",
       "      <td>...</td>\n",
       "      <td>...</td>\n",
       "    </tr>\n",
       "    <tr>\n",
       "      <th>95</th>\n",
       "      <td>Top 1 plourpa category by quantity ordered? S~...</td>\n",
       "      <td>[categories, order_details, products]</td>\n",
       "    </tr>\n",
       "    <tr>\n",
       "      <th>96</th>\n",
       "      <td>owSh customers  company) and how many73 ce the...</td>\n",
       "      <td>[customers, orders]</td>\n",
       "    </tr>\n",
       "    <tr>\n",
       "      <th>97</th>\n",
       "      <td>Total ORDERS per country shipped to? Show 'shi...</td>\n",
       "      <td>[orders]</td>\n",
       "    </tr>\n",
       "    <tr>\n",
       "      <th>98</th>\n",
       "      <td>How many orders per shipper per year? Show 'sh...</td>\n",
       "      <td>[orders, shippers]</td>\n",
       "    </tr>\n",
       "    <tr>\n",
       "      <th>99</th>\n",
       "      <td>H~ow nmay different products sha each abx boug...</td>\n",
       "      <td>[customers, order_details, orders]</td>\n",
       "    </tr>\n",
       "  </tbody>\n",
       "</table>\n",
       "<p>100 rows × 2 columns</p>\n",
       "</div>"
      ],
      "text/plain": [
       "                                               prompt  \\\n",
       "0   hjsz pendapatan kita tahun 1997 berapa59 sih? ...   \n",
       "1   Tiap yv udah bayar0 ke kita totalnya berapa?26...   \n",
       "2   kspxm  paling laku dt pendapatan setelah ndion...   \n",
       "3   C~ustomer  UK yang bayar  dari $1000   Tampilk...   \n",
       "4   B~erapa total pembayaran YANG dilakukan oleh s...   \n",
       "..                                                ...   \n",
       "95  Top 1 plourpa category by quantity ordered? S~...   \n",
       "96  owSh customers  company) and how many73 ce the...   \n",
       "97  Total ORDERS per country shipped to? Show 'shi...   \n",
       "98  How many orders per shipper per year? Show 'sh...   \n",
       "99  H~ow nmay different products sha each abx boug...   \n",
       "\n",
       "                              tables_used  \n",
       "0                 [order_details, orders]  \n",
       "1      [customers, order_details, orders]  \n",
       "2               [order_details, products]  \n",
       "3      [customers, order_details, orders]  \n",
       "4      [customers, order_details, orders]  \n",
       "..                                    ...  \n",
       "95  [categories, order_details, products]  \n",
       "96                    [customers, orders]  \n",
       "97                               [orders]  \n",
       "98                     [orders, shippers]  \n",
       "99     [customers, order_details, orders]  \n",
       "\n",
       "[100 rows x 2 columns]"
      ]
     },
     "execution_count": 10,
     "metadata": {},
     "output_type": "execute_result"
    }
   ],
   "source": [
    "dataset"
   ]
  },
  {
   "cell_type": "markdown",
   "id": "836923aa",
   "metadata": {},
   "source": [
    "# Experiment"
   ]
  },
  {
   "cell_type": "code",
   "execution_count": 11,
   "id": "959cb147",
   "metadata": {},
   "outputs": [],
   "source": [
    "def extract_table_names_from_schema(schema: dict) -> list:\n",
    "    \"\"\"\n",
    "    Given a schema dictionary (from predict_schema_only),\n",
    "    return a list of lowercase table names.\n",
    "    \"\"\"\n",
    "    return [table[\"name\"].lower() for table in schema.get(\"tables\", [])]"
   ]
  },
  {
   "cell_type": "code",
   "execution_count": 12,
   "id": "0eef1ff9",
   "metadata": {},
   "outputs": [],
   "source": [
    "def calculate_reduction(predicted_tables):\n",
    "    return 1 - (len(predicted_tables) / TOTAL_TABLES)"
   ]
  },
  {
   "cell_type": "code",
   "execution_count": 13,
   "id": "1abbe0fe",
   "metadata": {},
   "outputs": [
    {
     "name": "stdout",
     "output_type": "stream",
     "text": [
      "Related Tables: {'employee_territories', 'employees', 'orders', 'region', 'shippers', 'us_states', 'order_details', 'customer_demographics', 'customers', 'suppliers', 'customer_customer_demo', 'territories', 'products', 'categories'}\n",
      "Related Tables: {'employee_territories', 'employees', 'orders', 'region', 'shippers', 'us_states', 'order_details', 'customer_demographics', 'customers', 'suppliers', 'customer_customer_demo', 'territories', 'products', 'categories'}\n",
      "Related Tables: {'employees', 'orders', 'shippers', 'order_details', 'customers', 'suppliers', 'customer_demographics', 'customer_customer_demo', 'products', 'categories'}\n",
      "Related Tables: {'employees', 'orders', 'shippers', 'order_details', 'customer_demographics', 'customers', 'suppliers', 'customer_customer_demo', 'products', 'categories'}\n",
      "Related Tables: {'employees', 'orders', 'shippers', 'order_details', 'customers', 'customer_demographics', 'suppliers', 'customer_customer_demo', 'products', 'categories'}\n",
      "Related Tables: {'employee_territories', 'employees', 'orders', 'region', 'shippers', 'order_details', 'customers', 'suppliers', 'customer_demographics', 'customer_customer_demo', 'territories', 'products', 'categories'}\n",
      "Related Tables: {'employees', 'orders', 'shippers', 'order_details', 'customer_demographics', 'customers', 'suppliers', 'customer_customer_demo', 'products', 'categories'}\n",
      "Related Tables: {'employees', 'orders', 'shippers', 'order_details', 'customers', 'suppliers', 'customer_demographics', 'customer_customer_demo', 'products', 'categories'}\n",
      "Related Tables: {'employees', 'orders', 'shippers', 'order_details', 'suppliers', 'customers', 'customer_demographics', 'customer_customer_demo', 'products', 'categories'}\n",
      "Related Tables: {'employee_territories', 'employees', 'orders', 'region', 'shippers', 'order_details', 'customers', 'customer_demographics', 'suppliers', 'customer_customer_demo', 'territories', 'products', 'categories'}\n",
      "Related Tables: {'employees', 'orders', 'shippers', 'order_details', 'customers', 'customer_demographics', 'suppliers', 'customer_customer_demo', 'products', 'categories'}\n",
      "Related Tables: {'employees', 'orders', 'shippers', 'order_details', 'customers', 'customer_demographics', 'suppliers', 'customer_customer_demo', 'products', 'categories'}\n",
      "Related Tables: {'employee_territories', 'employees', 'orders', 'region', 'shippers', 'us_states', 'order_details', 'customer_demographics', 'customers', 'suppliers', 'customer_customer_demo', 'territories', 'products', 'categories'}\n",
      "Related Tables: {'employees', 'orders', 'shippers', 'order_details', 'customers', 'suppliers', 'customer_demographics', 'customer_customer_demo', 'products', 'categories'}\n",
      "Related Tables: {'employees', 'orders', 'shippers', 'order_details', 'customer_demographics', 'customers', 'suppliers', 'customer_customer_demo', 'products', 'categories'}\n",
      "Related Tables: {'employees', 'orders', 'shippers', 'order_details', 'customers', 'suppliers', 'customer_demographics', 'customer_customer_demo', 'products', 'categories'}\n",
      "Related Tables: {'employee_territories', 'employees', 'orders', 'region', 'shippers', 'us_states', 'order_details', 'customer_demographics', 'customers', 'suppliers', 'customer_customer_demo', 'territories', 'products', 'categories'}\n",
      "Related Tables: {'employees', 'orders', 'shippers', 'order_details', 'customers', 'suppliers', 'customer_demographics', 'customer_customer_demo', 'products', 'categories'}\n",
      "Related Tables: {'employees', 'orders', 'shippers', 'order_details', 'customer_demographics', 'customers', 'suppliers', 'customer_customer_demo', 'products', 'categories'}\n",
      "Related Tables: {'employees', 'orders', 'shippers', 'order_details', 'suppliers', 'customers', 'customer_demographics', 'customer_customer_demo', 'products', 'categories'}\n",
      "Related Tables: {'employees', 'orders', 'shippers', 'order_details', 'customers', 'suppliers', 'customer_demographics', 'customer_customer_demo', 'products', 'categories'}\n",
      "Related Tables: {'employee_territories', 'employees', 'orders', 'region', 'shippers', 'order_details', 'customers', 'customer_demographics', 'suppliers', 'customer_customer_demo', 'territories', 'products', 'categories'}\n",
      "Related Tables: {'employees', 'orders', 'shippers', 'order_details', 'customer_demographics', 'customers', 'suppliers', 'customer_customer_demo', 'products', 'categories'}\n",
      "Related Tables: {'employees', 'orders', 'shippers', 'order_details', 'customers', 'suppliers', 'customer_demographics', 'customer_customer_demo', 'products', 'categories'}\n",
      "Related Tables: {'categories'}\n",
      "Related Tables: {'employee_territories', 'employees', 'orders', 'region', 'shippers', 'order_details', 'customers', 'customer_demographics', 'suppliers', 'customer_customer_demo', 'territories', 'products', 'categories'}\n",
      "Related Tables: {'employees', 'orders', 'shippers', 'order_details', 'suppliers', 'customers', 'customer_demographics', 'customer_customer_demo', 'products', 'categories'}\n",
      "Related Tables: {'employees', 'orders', 'shippers', 'order_details', 'suppliers', 'customers', 'customer_demographics', 'customer_customer_demo', 'products', 'categories'}\n",
      "Related Tables: {'employees', 'orders', 'shippers', 'order_details', 'customer_demographics', 'customers', 'suppliers', 'customer_customer_demo', 'products', 'categories'}\n",
      "Related Tables: {'employees', 'orders', 'shippers', 'order_details', 'suppliers', 'customers', 'customer_demographics', 'customer_customer_demo', 'products', 'categories'}\n",
      "Related Tables: {'employees', 'orders', 'shippers', 'order_details', 'customers', 'customer_demographics', 'suppliers', 'customer_customer_demo', 'products', 'categories'}\n",
      "Related Tables: {'employees', 'orders', 'shippers', 'order_details', 'customers', 'customer_demographics', 'suppliers', 'customer_customer_demo', 'products', 'categories'}\n",
      "Related Tables: {'employees', 'orders', 'shippers', 'order_details', 'customers', 'customer_demographics', 'suppliers', 'customer_customer_demo', 'products', 'categories'}\n",
      "Related Tables: {'employees', 'orders', 'shippers', 'order_details', 'customers', 'customer_demographics', 'suppliers', 'customer_customer_demo', 'products', 'categories'}\n",
      "Related Tables: {'employee_territories', 'employees', 'orders', 'region', 'shippers', 'order_details', 'customers', 'customer_demographics', 'suppliers', 'customer_customer_demo', 'territories', 'products', 'categories'}\n",
      "Related Tables: {'employees', 'orders', 'shippers', 'order_details', 'suppliers', 'customers', 'customer_demographics', 'customer_customer_demo', 'products', 'categories'}\n",
      "Related Tables: {'employee_territories', 'employees', 'orders', 'region', 'shippers', 'order_details', 'customers', 'customer_demographics', 'suppliers', 'customer_customer_demo', 'territories', 'products', 'categories'}\n",
      "Related Tables: {'employee_territories', 'employees', 'orders', 'region', 'shippers', 'us_states', 'order_details', 'customer_demographics', 'customers', 'suppliers', 'customer_customer_demo', 'territories', 'products', 'categories'}\n",
      "Related Tables: {'employees', 'orders', 'shippers', 'order_details', 'suppliers', 'customers', 'customer_demographics', 'customer_customer_demo', 'products', 'categories'}\n",
      "Related Tables: {'employee_territories', 'employees', 'orders', 'region', 'shippers', 'order_details', 'customers', 'customer_demographics', 'suppliers', 'customer_customer_demo', 'territories', 'products', 'categories'}\n",
      "Related Tables: {'employees', 'orders', 'shippers', 'order_details', 'customer_demographics', 'customers', 'suppliers', 'customer_customer_demo', 'products', 'categories'}\n",
      "Related Tables: {'employees', 'orders', 'shippers', 'order_details', 'customers', 'suppliers', 'customer_demographics', 'customer_customer_demo', 'products', 'categories'}\n",
      "Related Tables: {'employees', 'orders', 'shippers', 'order_details', 'customer_demographics', 'customers', 'suppliers', 'customer_customer_demo', 'products', 'categories'}\n",
      "Related Tables: {'employees', 'orders', 'shippers', 'order_details', 'customer_demographics', 'customers', 'suppliers', 'customer_customer_demo', 'products', 'categories'}\n",
      "Related Tables: {'employees', 'orders', 'shippers', 'order_details', 'customer_demographics', 'customers', 'suppliers', 'customer_customer_demo', 'products', 'categories'}\n",
      "Related Tables: {'employees', 'orders', 'shippers', 'order_details', 'suppliers', 'customers', 'customer_demographics', 'customer_customer_demo', 'products', 'categories'}\n",
      "Related Tables: {'employees', 'orders', 'shippers', 'order_details', 'customers', 'customer_demographics', 'suppliers', 'customer_customer_demo', 'products', 'categories'}\n",
      "Related Tables: {'employees', 'orders', 'shippers', 'order_details', 'customers', 'suppliers', 'customer_demographics', 'customer_customer_demo', 'products', 'categories'}\n",
      "Related Tables: {'employees', 'orders', 'shippers', 'order_details', 'customers', 'suppliers', 'customer_demographics', 'customer_customer_demo', 'products', 'categories'}\n",
      "Related Tables: {'employees', 'orders', 'shippers', 'order_details', 'customer_demographics', 'suppliers', 'customers', 'customer_customer_demo', 'products', 'categories'}\n",
      "Related Tables: {'employee_territories', 'employees', 'orders', 'region', 'shippers', 'us_states', 'order_details', 'customer_demographics', 'customers', 'suppliers', 'customer_customer_demo', 'territories', 'products', 'categories'}\n",
      "Related Tables: {'employees', 'orders', 'shippers', 'order_details', 'customers', 'customer_demographics', 'suppliers', 'customer_customer_demo', 'products', 'categories'}\n",
      "Related Tables: {'employees', 'orders', 'shippers', 'order_details', 'customers', 'suppliers', 'customer_demographics', 'customer_customer_demo', 'products', 'categories'}\n",
      "Related Tables: {'employees', 'orders', 'shippers', 'order_details', 'customer_demographics', 'customers', 'suppliers', 'customer_customer_demo', 'products', 'categories'}\n",
      "Related Tables: {'employees', 'orders', 'shippers', 'order_details', 'customers', 'customer_demographics', 'suppliers', 'customer_customer_demo', 'products', 'categories'}\n",
      "Related Tables: {'employee_territories', 'employees', 'orders', 'region', 'shippers', 'order_details', 'customers', 'suppliers', 'customer_demographics', 'customer_customer_demo', 'territories', 'products', 'categories'}\n",
      "Related Tables: {'employees', 'orders', 'shippers', 'order_details', 'customer_demographics', 'customers', 'suppliers', 'customer_customer_demo', 'products', 'categories'}\n",
      "Related Tables: {'employees', 'orders', 'shippers', 'order_details', 'suppliers', 'customers', 'customer_demographics', 'customer_customer_demo', 'products', 'categories'}\n",
      "Related Tables: {'employees', 'orders', 'shippers', 'order_details', 'suppliers', 'customers', 'customer_demographics', 'customer_customer_demo', 'products', 'categories'}\n",
      "Related Tables: {'employee_territories', 'employees', 'orders', 'region', 'shippers', 'order_details', 'customers', 'customer_demographics', 'suppliers', 'customer_customer_demo', 'territories', 'products', 'categories'}\n",
      "Related Tables: {'employees', 'orders', 'shippers', 'order_details', 'customers', 'customer_demographics', 'suppliers', 'customer_customer_demo', 'products', 'categories'}\n",
      "Related Tables: {'employees', 'orders', 'shippers', 'order_details', 'customers', 'customer_demographics', 'suppliers', 'customer_customer_demo', 'products', 'categories'}\n",
      "Related Tables: {'employee_territories', 'employees', 'orders', 'region', 'shippers', 'order_details', 'customers', 'customer_demographics', 'suppliers', 'customer_customer_demo', 'territories', 'products', 'categories'}\n",
      "Related Tables: {'employees', 'orders', 'shippers', 'order_details', 'customers', 'suppliers', 'customer_demographics', 'customer_customer_demo', 'products', 'categories'}\n",
      "Related Tables: {'employees', 'orders', 'shippers', 'order_details', 'customer_demographics', 'customers', 'suppliers', 'customer_customer_demo', 'products', 'categories'}\n",
      "Related Tables: {'employees', 'orders', 'shippers', 'order_details', 'customers', 'suppliers', 'customer_demographics', 'customer_customer_demo', 'products', 'categories'}\n",
      "Related Tables: {'employee_territories', 'employees', 'orders', 'region', 'shippers', 'us_states', 'order_details', 'customer_demographics', 'customers', 'suppliers', 'customer_customer_demo', 'territories', 'products', 'categories'}\n",
      "Related Tables: {'employees', 'orders', 'shippers', 'order_details', 'customers', 'suppliers', 'customer_demographics', 'customer_customer_demo', 'products', 'categories'}\n",
      "Related Tables: {'employees', 'orders', 'shippers', 'order_details', 'customer_demographics', 'customers', 'suppliers', 'customer_customer_demo', 'products', 'categories'}\n",
      "Related Tables: {'employees', 'orders', 'shippers', 'order_details', 'suppliers', 'customers', 'customer_demographics', 'customer_customer_demo', 'products', 'categories'}\n",
      "Related Tables: {'employees', 'orders', 'shippers', 'order_details', 'customers', 'suppliers', 'customer_demographics', 'customer_customer_demo', 'products', 'categories'}\n",
      "Related Tables: {'employee_territories', 'employees', 'orders', 'region', 'shippers', 'order_details', 'customers', 'customer_demographics', 'suppliers', 'customer_customer_demo', 'territories', 'products', 'categories'}\n",
      "Related Tables: {'employees', 'orders', 'shippers', 'order_details', 'customer_demographics', 'customers', 'suppliers', 'customer_customer_demo', 'products', 'categories'}\n",
      "Related Tables: {'employee_territories', 'employees', 'orders', 'region', 'shippers', 'us_states', 'order_details', 'customer_demographics', 'customers', 'suppliers', 'customer_customer_demo', 'territories', 'products', 'categories'}\n",
      "Related Tables: {'employees', 'orders', 'shippers', 'order_details', 'customers', 'suppliers', 'customer_demographics', 'customer_customer_demo', 'products', 'categories'}\n",
      "Related Tables: {'employee_territories', 'employees', 'orders', 'region', 'shippers', 'order_details', 'customers', 'customer_demographics', 'suppliers', 'customer_customer_demo', 'territories', 'products', 'categories'}\n",
      "Related Tables: {'employees', 'orders', 'shippers', 'order_details', 'suppliers', 'customers', 'customer_demographics', 'customer_customer_demo', 'products', 'categories'}\n",
      "Related Tables: {'employees', 'orders', 'shippers', 'order_details', 'suppliers', 'customers', 'customer_demographics', 'customer_customer_demo', 'products', 'categories'}\n",
      "Related Tables: {'employees', 'orders', 'shippers', 'order_details', 'customer_demographics', 'customers', 'suppliers', 'customer_customer_demo', 'products', 'categories'}\n",
      "Related Tables: {'employees', 'orders', 'shippers', 'order_details', 'suppliers', 'customers', 'customer_demographics', 'customer_customer_demo', 'products', 'categories'}\n",
      "Related Tables: {'employees', 'orders', 'shippers', 'order_details', 'customer_demographics', 'customers', 'suppliers', 'customer_customer_demo', 'products', 'categories'}\n",
      "Related Tables: {'employees', 'orders', 'shippers', 'order_details', 'customers', 'customer_demographics', 'suppliers', 'customer_customer_demo', 'products', 'categories'}\n",
      "Related Tables: {'employees', 'orders', 'shippers', 'order_details', 'customers', 'customer_demographics', 'suppliers', 'customer_customer_demo', 'products', 'categories'}\n",
      "Related Tables: {'employees', 'orders', 'shippers', 'order_details', 'customers', 'customer_demographics', 'suppliers', 'customer_customer_demo', 'products', 'categories'}\n",
      "Related Tables: {'employee_territories', 'employees', 'orders', 'region', 'shippers', 'order_details', 'customers', 'customer_demographics', 'suppliers', 'customer_customer_demo', 'territories', 'products', 'categories'}\n",
      "Related Tables: {'employees', 'orders', 'shippers', 'order_details', 'customers', 'suppliers', 'customer_demographics', 'customer_customer_demo', 'products', 'categories'}\n",
      "Related Tables: {'employee_territories', 'employees', 'orders', 'region', 'shippers', 'order_details', 'customers', 'customer_demographics', 'suppliers', 'customer_customer_demo', 'territories', 'products', 'categories'}\n",
      "Related Tables: {'employee_territories', 'employees', 'orders', 'region', 'shippers', 'order_details', 'customers', 'customer_demographics', 'suppliers', 'customer_customer_demo', 'territories', 'products', 'categories'}\n",
      "Related Tables: {'employees', 'orders', 'shippers', 'order_details', 'suppliers', 'customers', 'customer_demographics', 'customer_customer_demo', 'products', 'categories'}\n",
      "Related Tables: {'employee_territories', 'employees', 'orders', 'region', 'shippers', 'order_details', 'customers', 'customer_demographics', 'suppliers', 'customer_customer_demo', 'territories', 'products', 'categories'}\n",
      "Related Tables: {'employees', 'orders', 'shippers', 'order_details', 'customers', 'customer_demographics', 'suppliers', 'customer_customer_demo', 'products', 'categories'}\n",
      "Related Tables: {'employees', 'orders', 'shippers', 'order_details', 'customers', 'suppliers', 'customer_demographics', 'customer_customer_demo', 'products', 'categories'}\n",
      "Related Tables: {'employees', 'orders', 'shippers', 'order_details', 'customer_demographics', 'customers', 'suppliers', 'customer_customer_demo', 'products', 'categories'}\n",
      "Related Tables: {'employees', 'orders', 'shippers', 'order_details', 'customer_demographics', 'customers', 'suppliers', 'customer_customer_demo', 'products', 'categories'}\n",
      "Related Tables: {'employee_territories', 'employees', 'orders', 'region', 'shippers', 'order_details', 'customer_demographics', 'customers', 'suppliers', 'customer_customer_demo', 'territories', 'products', 'categories'}\n",
      "Related Tables: {'employees', 'orders', 'shippers', 'order_details', 'suppliers', 'customers', 'customer_demographics', 'customer_customer_demo', 'products', 'categories'}\n",
      "Related Tables: {'employees', 'orders', 'shippers', 'order_details', 'customers', 'customer_demographics', 'suppliers', 'customer_customer_demo', 'products', 'categories'}\n",
      "Related Tables: {'employees', 'orders', 'shippers', 'order_details', 'customers', 'suppliers', 'customer_demographics', 'customer_customer_demo', 'products', 'categories'}\n",
      "Related Tables: {'employees', 'orders', 'shippers', 'order_details', 'customers', 'suppliers', 'customer_demographics', 'customer_customer_demo', 'products', 'categories'}\n",
      "Related Tables: {'employees', 'orders', 'shippers', 'order_details', 'customer_demographics', 'customers', 'suppliers', 'customer_customer_demo', 'products', 'categories'}\n"
     ]
    }
   ],
   "source": [
    "accuracies = []\n",
    "predicted_tables_list = []\n",
    "\n",
    "for _, row in dataset.iterrows():\n",
    "    prompt = row[\"prompt\"]\n",
    "    true_tables = set(row[\"tables_used\"])\n",
    "\n",
    "    predicted_schema = text_to_sql_model.predict_schema_only(prompt)\n",
    "    predicted_tables = set(extract_table_names_from_schema(predicted_schema))\n",
    "\n",
    "    # Save predicted tables\n",
    "    predicted_tables_list.append(list(predicted_tables))\n",
    "\n",
    "    # Calculate accuracy\n",
    "    intersection_count = len(true_tables.intersection(predicted_tables))\n",
    "    total_true_tables = len(true_tables)\n",
    "\n",
    "    if total_true_tables > 0:\n",
    "        accuracy = intersection_count / total_true_tables\n",
    "    else:\n",
    "        accuracy = 1.0 if not predicted_tables else 0.0\n",
    "\n",
    "    accuracies.append(accuracy)"
   ]
  },
  {
   "cell_type": "code",
   "execution_count": 14,
   "id": "ae78f3f8",
   "metadata": {},
   "outputs": [],
   "source": [
    "dataset[\"predicted_tables\"] = predicted_tables_list\n",
    "dataset[\"schema_accuracy\"] = accuracies\n",
    "dataset['schema_reduction'] = dataset['predicted_tables'].apply(calculate_reduction)"
   ]
  },
  {
   "cell_type": "code",
   "execution_count": 15,
   "id": "3d0c3c9e",
   "metadata": {},
   "outputs": [
    {
     "name": "stdout",
     "output_type": "stream",
     "text": [
      "Schema Prediction Accuracy (Intersection-Based): 99.50%\n",
      "Average Schema Reduction: 23.29%\n"
     ]
    }
   ],
   "source": [
    "final_accuracy = sum(accuracies) / len(accuracies)\n",
    "print(f\"Schema Prediction Accuracy (Intersection-Based): {final_accuracy:.2%}\")\n",
    "\n",
    "average_reduction = dataset['schema_reduction'].mean()\n",
    "print(f\"Average Schema Reduction: {average_reduction:.2%}\")"
   ]
  }
 ],
 "metadata": {
  "kernelspec": {
   "display_name": "Python 3",
   "language": "python",
   "name": "python3"
  },
  "language_info": {
   "codemirror_mode": {
    "name": "ipython",
    "version": 3
   },
   "file_extension": ".py",
   "mimetype": "text/x-python",
   "name": "python",
   "nbconvert_exporter": "python",
   "pygments_lexer": "ipython3",
   "version": "3.9.6"
  }
 },
 "nbformat": 4,
 "nbformat_minor": 5
}
