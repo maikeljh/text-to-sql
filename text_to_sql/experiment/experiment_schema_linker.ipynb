{
 "cells": [
  {
   "cell_type": "markdown",
   "id": "b78c2f98",
   "metadata": {},
   "source": [
    "# Import Libraries"
   ]
  },
  {
   "cell_type": "code",
   "execution_count": 17,
   "id": "6aac2eaa",
   "metadata": {},
   "outputs": [],
   "source": [
    "import sys\n",
    "import os\n",
    "\n",
    "notebook_dir = os.getcwd()\n",
    "parent_dir = os.path.abspath(os.path.join(notebook_dir, '..'))\n",
    "\n",
    "if parent_dir not in sys.path:\n",
    "    sys.path.insert(0, parent_dir)"
   ]
  },
  {
   "cell_type": "code",
   "execution_count": 18,
   "id": "b3e6fbdf",
   "metadata": {},
   "outputs": [],
   "source": [
    "from text_to_sql import (\n",
    "    TextToSQL,\n",
    "    Config,\n",
    "    LLMConfig,\n",
    "    SLConfig,\n",
    "    ContextConfig,\n",
    "    QueryConfig,\n",
    ")\n",
    "from dotenv import load_dotenv\n",
    "from datetime import datetime\n",
    "\n",
    "import pandas as pd\n",
    "import os"
   ]
  },
  {
   "cell_type": "markdown",
   "id": "6eee5d38",
   "metadata": {},
   "source": [
    "# Constants"
   ]
  },
  {
   "cell_type": "code",
   "execution_count": 19,
   "id": "bc410d08",
   "metadata": {},
   "outputs": [],
   "source": [
    "DATABASE = \"northwind\"\n",
    "MODEL = \"gemini-1.5-pro\"\n",
    "PROVIDER = \"gemini\"\n",
    "TOTAL_TABLES = 14"
   ]
  },
  {
   "cell_type": "markdown",
   "id": "7693cd58",
   "metadata": {},
   "source": [
    "# Load Environment"
   ]
  },
  {
   "cell_type": "code",
   "execution_count": 20,
   "id": "f2ab360d",
   "metadata": {},
   "outputs": [
    {
     "data": {
      "text/plain": [
       "True"
      ]
     },
     "execution_count": 20,
     "metadata": {},
     "output_type": "execute_result"
    }
   ],
   "source": [
    "load_dotenv()"
   ]
  },
  {
   "cell_type": "markdown",
   "id": "0205d44e",
   "metadata": {},
   "source": [
    "# Set Timestamp Experiment"
   ]
  },
  {
   "cell_type": "code",
   "execution_count": 21,
   "id": "f3848d08",
   "metadata": {},
   "outputs": [],
   "source": [
    "timestamp = datetime.now().strftime(\"%Y_%m_%d_%H_%M\")\n",
    "output_dir = f\"../files/experiment_result/{timestamp}\"\n",
    "os.makedirs(output_dir, exist_ok=True)"
   ]
  },
  {
   "cell_type": "markdown",
   "id": "eb343f81",
   "metadata": {},
   "source": [
    "# Config"
   ]
  },
  {
   "cell_type": "code",
   "execution_count": 22,
   "id": "d3c7101c",
   "metadata": {},
   "outputs": [],
   "source": [
    "db_key = DATABASE.upper().replace(\"-\", \"_\")\n",
    "provider_key = PROVIDER.upper().replace(\"-\", \"_\")\n",
    "\n",
    "config = Config(\n",
    "    max_retry_attempt=5,\n",
    "    rewriter_config=LLMConfig(\n",
    "        type=\"api\",\n",
    "        model=MODEL,\n",
    "        provider=PROVIDER,\n",
    "        api_key=os.getenv(f\"API_KEY_{provider_key}\"),\n",
    "    ),\n",
    "    query_generator_config=LLMConfig(\n",
    "        type=\"api\",\n",
    "        model=MODEL,\n",
    "        provider=PROVIDER,\n",
    "        api_key=os.getenv(f\"API_KEY_{provider_key}\"),\n",
    "    ),\n",
    "    schema_linker_config=SLConfig(\n",
    "        type=\"api\",\n",
    "        model=MODEL,\n",
    "        provider=PROVIDER,\n",
    "        api_key=os.getenv(f\"API_KEY_{provider_key}\"),\n",
    "        schema_path=f\"../files/schema/{DATABASE}.txt\",\n",
    "        metadata_path=f\"../files/metadata/{DATABASE}.json\",\n",
    "    ),\n",
    "    retrieve_context_config=ContextConfig(data_path=f\"../files/dataset/dataset_{DATABASE}.csv\"),\n",
    "    query_executor_config = QueryConfig(\n",
    "        host=os.getenv(f\"DB_HOST_{db_key}\"),\n",
    "        database=os.getenv(f\"DB_DATABASE_{db_key}\"),\n",
    "        user=os.getenv(f\"DB_USER_{db_key}\"),\n",
    "        password=os.getenv(f\"DB_PASSWORD_{db_key}\"),\n",
    "        port=os.getenv(f\"DB_PORT_{db_key}\"),\n",
    "    ),\n",
    ")"
   ]
  },
  {
   "cell_type": "markdown",
   "id": "89fc113e",
   "metadata": {},
   "source": [
    "# Model"
   ]
  },
  {
   "cell_type": "code",
   "execution_count": 23,
   "id": "3c5f1885",
   "metadata": {},
   "outputs": [
    {
     "name": "stdout",
     "output_type": "stream",
     "text": [
      "Initializing API client for gemini using model gemini-1.5-pro.\n",
      "Initializing API client for gemini using model gemini-1.5-pro.\n",
      "Initializing API client for gemini using model gemini-1.5-pro.\n"
     ]
    }
   ],
   "source": [
    "text_to_sql_model = TextToSQL(config=config)"
   ]
  },
  {
   "cell_type": "markdown",
   "id": "97a3f318",
   "metadata": {},
   "source": [
    "# Import Dataset"
   ]
  },
  {
   "cell_type": "code",
   "execution_count": 24,
   "id": "59ff1ed6",
   "metadata": {},
   "outputs": [],
   "source": [
    "dataset = pd.read_csv(f\"../files/dataset/dataset_schema_linker.csv\")"
   ]
  },
  {
   "cell_type": "code",
   "execution_count": 25,
   "id": "bc5db41c",
   "metadata": {},
   "outputs": [],
   "source": [
    "dataset[\"tables_used\"] = dataset[\"tables_used\"].apply(eval)"
   ]
  },
  {
   "cell_type": "code",
   "execution_count": 26,
   "id": "c4bd32ea",
   "metadata": {},
   "outputs": [
    {
     "data": {
      "text/html": [
       "<div>\n",
       "<style scoped>\n",
       "    .dataframe tbody tr th:only-of-type {\n",
       "        vertical-align: middle;\n",
       "    }\n",
       "\n",
       "    .dataframe tbody tr th {\n",
       "        vertical-align: top;\n",
       "    }\n",
       "\n",
       "    .dataframe thead th {\n",
       "        text-align: right;\n",
       "    }\n",
       "</style>\n",
       "<table border=\"1\" class=\"dataframe\">\n",
       "  <thead>\n",
       "    <tr style=\"text-align: right;\">\n",
       "      <th></th>\n",
       "      <th>prompt</th>\n",
       "      <th>tables_used</th>\n",
       "    </tr>\n",
       "  </thead>\n",
       "  <tbody>\n",
       "    <tr>\n",
       "      <th>0</th>\n",
       "      <td>Total pendapatan kita tahun 1997 berapa sih? T...</td>\n",
       "      <td>[order_details, orders]</td>\n",
       "    </tr>\n",
       "    <tr>\n",
       "      <th>1</th>\n",
       "      <td>Tiap customer udah bayar ke kita totalnya bera...</td>\n",
       "      <td>[customers, order_details, orders]</td>\n",
       "    </tr>\n",
       "    <tr>\n",
       "      <th>2</th>\n",
       "      <td>10 produk paling laku berdasarkan pendapatan s...</td>\n",
       "      <td>[order_details, products]</td>\n",
       "    </tr>\n",
       "    <tr>\n",
       "      <th>3</th>\n",
       "      <td>Customer dari UK yang bayar lebih dari $1000 s...</td>\n",
       "      <td>[customers, order_details, orders]</td>\n",
       "    </tr>\n",
       "    <tr>\n",
       "      <th>4</th>\n",
       "      <td>Berapa total pembayaran yang dilakukan oleh se...</td>\n",
       "      <td>[customers, order_details, orders]</td>\n",
       "    </tr>\n",
       "    <tr>\n",
       "      <th>...</th>\n",
       "      <td>...</td>\n",
       "      <td>...</td>\n",
       "    </tr>\n",
       "    <tr>\n",
       "      <th>95</th>\n",
       "      <td>Top 1 popular category by quantity ordered? Sh...</td>\n",
       "      <td>[categories, order_details, products]</td>\n",
       "    </tr>\n",
       "    <tr>\n",
       "      <th>96</th>\n",
       "      <td>Show customers (not company) and how many empl...</td>\n",
       "      <td>[customers, orders]</td>\n",
       "    </tr>\n",
       "    <tr>\n",
       "      <th>97</th>\n",
       "      <td>Total orders per country shipped to? Show 'shi...</td>\n",
       "      <td>[orders]</td>\n",
       "    </tr>\n",
       "    <tr>\n",
       "      <th>98</th>\n",
       "      <td>How many orders per shipper per year? Show 'sh...</td>\n",
       "      <td>[orders, shippers]</td>\n",
       "    </tr>\n",
       "    <tr>\n",
       "      <th>99</th>\n",
       "      <td>How many different products has each customer ...</td>\n",
       "      <td>[customers, order_details, orders]</td>\n",
       "    </tr>\n",
       "  </tbody>\n",
       "</table>\n",
       "<p>100 rows × 2 columns</p>\n",
       "</div>"
      ],
      "text/plain": [
       "                                               prompt  \\\n",
       "0   Total pendapatan kita tahun 1997 berapa sih? T...   \n",
       "1   Tiap customer udah bayar ke kita totalnya bera...   \n",
       "2   10 produk paling laku berdasarkan pendapatan s...   \n",
       "3   Customer dari UK yang bayar lebih dari $1000 s...   \n",
       "4   Berapa total pembayaran yang dilakukan oleh se...   \n",
       "..                                                ...   \n",
       "95  Top 1 popular category by quantity ordered? Sh...   \n",
       "96  Show customers (not company) and how many empl...   \n",
       "97  Total orders per country shipped to? Show 'shi...   \n",
       "98  How many orders per shipper per year? Show 'sh...   \n",
       "99  How many different products has each customer ...   \n",
       "\n",
       "                              tables_used  \n",
       "0                 [order_details, orders]  \n",
       "1      [customers, order_details, orders]  \n",
       "2               [order_details, products]  \n",
       "3      [customers, order_details, orders]  \n",
       "4      [customers, order_details, orders]  \n",
       "..                                    ...  \n",
       "95  [categories, order_details, products]  \n",
       "96                    [customers, orders]  \n",
       "97                               [orders]  \n",
       "98                     [orders, shippers]  \n",
       "99     [customers, order_details, orders]  \n",
       "\n",
       "[100 rows x 2 columns]"
      ]
     },
     "execution_count": 26,
     "metadata": {},
     "output_type": "execute_result"
    }
   ],
   "source": [
    "dataset"
   ]
  },
  {
   "cell_type": "markdown",
   "id": "f3dc8f5e",
   "metadata": {},
   "source": [
    "# Experiment"
   ]
  },
  {
   "cell_type": "code",
   "execution_count": 27,
   "id": "da550a22",
   "metadata": {},
   "outputs": [],
   "source": [
    "def extract_table_names_from_schema(schema: dict) -> list:\n",
    "    \"\"\"\n",
    "    Given a schema dictionary (from predict_schema_only),\n",
    "    return a list of lowercase table names.\n",
    "    \"\"\"\n",
    "    return [table[\"name\"].lower() for table in schema.get(\"tables\", [])]"
   ]
  },
  {
   "cell_type": "code",
   "execution_count": 28,
   "id": "59966092",
   "metadata": {},
   "outputs": [],
   "source": [
    "def calculate_reduction(predicted_tables):\n",
    "    return 1 - (len(predicted_tables) / TOTAL_TABLES)"
   ]
  },
  {
   "cell_type": "code",
   "execution_count": 29,
   "id": "73bccf21",
   "metadata": {},
   "outputs": [
    {
     "name": "stdout",
     "output_type": "stream",
     "text": [
      "Related Tables: {'order_details', 'suppliers', 'territories', 'region', 'customer_customer_demo', 'employees', 'products', 'us_states', 'shippers', 'customers', 'customer_demographics', 'employee_territories', 'orders', 'categories'}\n",
      "Related Tables: {'order_details', 'suppliers', 'customer_customer_demo', 'employees', 'products', 'shippers', 'customers', 'customer_demographics', 'orders', 'categories'}\n",
      "Related Tables: {'order_details', 'suppliers', 'customer_customer_demo', 'employees', 'products', 'shippers', 'customers', 'customer_demographics', 'orders', 'categories'}\n",
      "Related Tables: {'order_details', 'suppliers', 'customer_customer_demo', 'employees', 'products', 'shippers', 'customers', 'customer_demographics', 'orders', 'categories'}\n",
      "Related Tables: {'order_details', 'suppliers', 'customer_customer_demo', 'employees', 'products', 'shippers', 'customers', 'customer_demographics', 'orders', 'categories'}\n",
      "Related Tables: {'order_details', 'suppliers', 'territories', 'region', 'customer_customer_demo', 'employees', 'products', 'shippers', 'customers', 'customer_demographics', 'employee_territories', 'orders', 'categories'}\n",
      "Related Tables: {'order_details', 'suppliers', 'customer_customer_demo', 'employees', 'products', 'shippers', 'customers', 'customer_demographics', 'orders', 'categories'}\n",
      "Related Tables: {'order_details', 'suppliers', 'customer_customer_demo', 'employees', 'products', 'shippers', 'customers', 'customer_demographics', 'orders', 'categories'}\n",
      "Related Tables: {'order_details', 'suppliers', 'customer_customer_demo', 'employees', 'products', 'shippers', 'customers', 'customer_demographics', 'orders', 'categories'}\n",
      "Related Tables: {'order_details', 'suppliers', 'territories', 'region', 'customer_customer_demo', 'employees', 'products', 'shippers', 'customers', 'customer_demographics', 'employee_territories', 'orders', 'categories'}\n",
      "Related Tables: {'order_details', 'suppliers', 'customer_customer_demo', 'employees', 'products', 'shippers', 'customers', 'customer_demographics', 'orders', 'categories'}\n",
      "Related Tables: {'order_details', 'suppliers', 'customer_customer_demo', 'employees', 'products', 'shippers', 'customers', 'customer_demographics', 'orders', 'categories'}\n",
      "Related Tables: {'order_details', 'suppliers', 'territories', 'region', 'customer_customer_demo', 'employees', 'products', 'shippers', 'customers', 'customer_demographics', 'employee_territories', 'orders', 'categories'}\n",
      "Related Tables: {'order_details', 'suppliers', 'customer_customer_demo', 'employees', 'products', 'shippers', 'customers', 'customer_demographics', 'orders', 'categories'}\n",
      "Related Tables: {'order_details', 'suppliers', 'customer_customer_demo', 'employees', 'products', 'shippers', 'customers', 'customer_demographics', 'orders', 'categories'}\n",
      "Related Tables: {'order_details', 'suppliers', 'customer_customer_demo', 'employees', 'products', 'shippers', 'customers', 'customer_demographics', 'orders', 'categories'}\n",
      "Related Tables: {'order_details', 'suppliers', 'territories', 'region', 'customer_customer_demo', 'employees', 'products', 'us_states', 'shippers', 'customers', 'customer_demographics', 'employee_territories', 'orders', 'categories'}\n",
      "Related Tables: {'order_details', 'suppliers', 'customer_customer_demo', 'employees', 'products', 'shippers', 'customers', 'customer_demographics', 'orders', 'categories'}\n",
      "Related Tables: {'order_details', 'suppliers', 'customer_customer_demo', 'employees', 'products', 'shippers', 'customers', 'customer_demographics', 'orders', 'categories'}\n",
      "Related Tables: {'order_details', 'suppliers', 'customer_customer_demo', 'employees', 'products', 'shippers', 'customers', 'customer_demographics', 'orders', 'categories'}\n",
      "Related Tables: {'order_details', 'suppliers', 'customer_customer_demo', 'employees', 'products', 'shippers', 'customers', 'customer_demographics', 'orders', 'categories'}\n",
      "Related Tables: {'order_details', 'suppliers', 'territories', 'region', 'customer_customer_demo', 'employees', 'products', 'shippers', 'customers', 'customer_demographics', 'employee_territories', 'orders', 'categories'}\n",
      "Related Tables: {'order_details', 'suppliers', 'customer_customer_demo', 'employees', 'products', 'shippers', 'customers', 'customer_demographics', 'orders', 'categories'}\n",
      "Related Tables: {'order_details', 'suppliers', 'customer_customer_demo', 'employees', 'products', 'shippers', 'customers', 'customer_demographics', 'orders', 'categories'}\n",
      "Related Tables: {'order_details', 'suppliers', 'customer_customer_demo', 'employees', 'products', 'shippers', 'customers', 'customer_demographics', 'orders', 'categories'}\n",
      "Related Tables: {'order_details', 'suppliers', 'territories', 'region', 'customer_customer_demo', 'employees', 'products', 'shippers', 'customers', 'customer_demographics', 'employee_territories', 'orders', 'categories'}\n",
      "Related Tables: {'order_details', 'suppliers', 'customer_customer_demo', 'employees', 'products', 'shippers', 'customers', 'customer_demographics', 'orders', 'categories'}\n",
      "Related Tables: {'order_details', 'suppliers', 'customer_customer_demo', 'employees', 'products', 'shippers', 'customers', 'customer_demographics', 'orders', 'categories'}\n",
      "Related Tables: {'order_details', 'suppliers', 'customer_customer_demo', 'employees', 'products', 'shippers', 'customers', 'customer_demographics', 'orders', 'categories'}\n",
      "Related Tables: {'order_details', 'suppliers', 'customer_customer_demo', 'employees', 'products', 'shippers', 'customers', 'customer_demographics', 'orders', 'categories'}\n",
      "Related Tables: {'order_details', 'suppliers', 'customer_customer_demo', 'employees', 'products', 'shippers', 'customers', 'customer_demographics', 'orders', 'categories'}\n",
      "Related Tables: {'order_details', 'suppliers', 'customer_customer_demo', 'employees', 'products', 'shippers', 'customers', 'customer_demographics', 'orders', 'categories'}\n",
      "Related Tables: {'order_details', 'suppliers', 'territories', 'region', 'customer_customer_demo', 'employees', 'products', 'shippers', 'customers', 'customer_demographics', 'employee_territories', 'orders', 'categories'}\n",
      "Related Tables: {'order_details', 'suppliers', 'customer_customer_demo', 'employees', 'products', 'shippers', 'customers', 'customer_demographics', 'orders', 'categories'}\n",
      "Related Tables: {'order_details', 'suppliers', 'territories', 'region', 'customer_customer_demo', 'employees', 'products', 'shippers', 'customers', 'customer_demographics', 'employee_territories', 'orders', 'categories'}\n",
      "Related Tables: {'order_details', 'suppliers', 'customer_customer_demo', 'employees', 'products', 'shippers', 'customers', 'customer_demographics', 'orders', 'categories'}\n",
      "Related Tables: {'order_details', 'suppliers', 'territories', 'region', 'customer_customer_demo', 'employees', 'products', 'shippers', 'customers', 'customer_demographics', 'employee_territories', 'orders', 'categories'}\n",
      "Related Tables: {'order_details', 'suppliers', 'territories', 'region', 'customer_customer_demo', 'employees', 'products', 'shippers', 'customers', 'customer_demographics', 'employee_territories', 'orders', 'categories'}\n",
      "Related Tables: {'order_details', 'suppliers', 'customer_customer_demo', 'employees', 'products', 'shippers', 'customers', 'customer_demographics', 'orders', 'categories'}\n",
      "Related Tables: {'order_details', 'suppliers', 'territories', 'region', 'customer_customer_demo', 'employees', 'products', 'shippers', 'customers', 'customer_demographics', 'employee_territories', 'orders', 'categories'}\n",
      "Related Tables: {'order_details', 'suppliers', 'customer_customer_demo', 'employees', 'products', 'shippers', 'customers', 'customer_demographics', 'orders', 'categories'}\n",
      "Related Tables: {'order_details', 'suppliers', 'customer_customer_demo', 'employees', 'products', 'shippers', 'customers', 'customer_demographics', 'orders', 'categories'}\n",
      "Related Tables: {'order_details', 'suppliers', 'customer_customer_demo', 'employees', 'products', 'shippers', 'customers', 'customer_demographics', 'orders', 'categories'}\n",
      "Related Tables: {'order_details', 'suppliers', 'customer_customer_demo', 'employees', 'products', 'shippers', 'customers', 'customer_demographics', 'orders', 'categories'}\n",
      "Related Tables: {'order_details', 'suppliers', 'territories', 'region', 'customer_customer_demo', 'employees', 'products', 'shippers', 'customers', 'customer_demographics', 'employee_territories', 'orders', 'categories'}\n",
      "Related Tables: {'order_details', 'suppliers', 'customer_customer_demo', 'employees', 'products', 'shippers', 'customers', 'customer_demographics', 'orders', 'categories'}\n",
      "Related Tables: {'order_details', 'suppliers', 'territories', 'region', 'customer_customer_demo', 'employees', 'products', 'shippers', 'customers', 'customer_demographics', 'employee_territories', 'orders', 'categories'}\n",
      "Related Tables: {'order_details', 'suppliers', 'customer_customer_demo', 'employees', 'products', 'shippers', 'customers', 'customer_demographics', 'orders', 'categories'}\n",
      "Related Tables: {'order_details', 'suppliers', 'customer_customer_demo', 'employees', 'products', 'shippers', 'customers', 'customer_demographics', 'orders', 'categories'}\n",
      "Related Tables: {'order_details', 'suppliers', 'customer_customer_demo', 'employees', 'products', 'shippers', 'customers', 'customer_demographics', 'orders', 'categories'}\n",
      "Related Tables: {'order_details', 'suppliers', 'territories', 'region', 'customer_customer_demo', 'employees', 'products', 'us_states', 'shippers', 'customers', 'customer_demographics', 'employee_territories', 'orders', 'categories'}\n",
      "Related Tables: {'order_details', 'suppliers', 'customer_customer_demo', 'employees', 'products', 'shippers', 'customers', 'customer_demographics', 'orders', 'categories'}\n",
      "Related Tables: {'order_details', 'suppliers', 'customer_customer_demo', 'employees', 'products', 'shippers', 'customers', 'customer_demographics', 'orders', 'categories'}\n",
      "Related Tables: {'order_details', 'suppliers', 'customer_customer_demo', 'employees', 'products', 'shippers', 'customers', 'customer_demographics', 'orders', 'categories'}\n",
      "Related Tables: {'order_details', 'suppliers', 'customer_customer_demo', 'employees', 'products', 'shippers', 'customers', 'customer_demographics', 'orders', 'categories'}\n",
      "Related Tables: {'order_details', 'suppliers', 'territories', 'region', 'customer_customer_demo', 'employees', 'products', 'shippers', 'customers', 'customer_demographics', 'employee_territories', 'orders', 'categories'}\n",
      "Related Tables: {'order_details', 'suppliers', 'customer_customer_demo', 'employees', 'products', 'shippers', 'customers', 'customer_demographics', 'orders', 'categories'}\n",
      "Related Tables: {'order_details', 'suppliers', 'customer_customer_demo', 'employees', 'products', 'shippers', 'customers', 'customer_demographics', 'orders', 'categories'}\n",
      "Related Tables: {'order_details', 'suppliers', 'customer_customer_demo', 'employees', 'products', 'shippers', 'customers', 'customer_demographics', 'orders', 'categories'}\n",
      "Related Tables: {'order_details', 'suppliers', 'territories', 'region', 'customer_customer_demo', 'employees', 'products', 'shippers', 'customers', 'customer_demographics', 'employee_territories', 'orders', 'categories'}\n",
      "Related Tables: {'order_details', 'suppliers', 'customer_customer_demo', 'employees', 'products', 'shippers', 'customers', 'customer_demographics', 'orders', 'categories'}\n",
      "Related Tables: {'order_details', 'suppliers', 'customer_customer_demo', 'employees', 'products', 'shippers', 'customers', 'customer_demographics', 'orders', 'categories'}\n",
      "Related Tables: {'order_details', 'suppliers', 'territories', 'region', 'customer_customer_demo', 'employees', 'products', 'shippers', 'customers', 'customer_demographics', 'employee_territories', 'orders', 'categories'}\n",
      "Related Tables: {'order_details', 'suppliers', 'customer_customer_demo', 'employees', 'products', 'shippers', 'customers', 'customer_demographics', 'orders', 'categories'}\n",
      "Related Tables: {'order_details', 'suppliers', 'customer_customer_demo', 'employees', 'products', 'shippers', 'customers', 'customer_demographics', 'orders', 'categories'}\n",
      "Related Tables: {'order_details', 'suppliers', 'customer_customer_demo', 'employees', 'products', 'shippers', 'customers', 'customer_demographics', 'orders', 'categories'}\n",
      "Related Tables: {'order_details', 'suppliers', 'territories', 'region', 'customer_customer_demo', 'employees', 'products', 'us_states', 'shippers', 'customers', 'customer_demographics', 'employee_territories', 'orders', 'categories'}\n",
      "Related Tables: {'order_details', 'suppliers', 'customer_customer_demo', 'employees', 'products', 'shippers', 'customers', 'customer_demographics', 'orders', 'categories'}\n",
      "Related Tables: {'order_details', 'suppliers', 'customer_customer_demo', 'employees', 'products', 'shippers', 'customers', 'customer_demographics', 'orders', 'categories'}\n",
      "Related Tables: {'order_details', 'suppliers', 'customer_customer_demo', 'employees', 'products', 'shippers', 'customers', 'customer_demographics', 'orders', 'categories'}\n",
      "Related Tables: {'order_details', 'suppliers', 'customer_customer_demo', 'employees', 'products', 'shippers', 'customers', 'customer_demographics', 'orders', 'categories'}\n",
      "Related Tables: {'order_details', 'suppliers', 'territories', 'region', 'customer_customer_demo', 'employees', 'products', 'shippers', 'customers', 'customer_demographics', 'employee_territories', 'orders', 'categories'}\n",
      "Related Tables: {'order_details', 'suppliers', 'customer_customer_demo', 'employees', 'products', 'shippers', 'customers', 'customer_demographics', 'orders', 'categories'}\n",
      "Related Tables: {'order_details', 'suppliers', 'customer_customer_demo', 'employees', 'products', 'shippers', 'customers', 'customer_demographics', 'orders', 'categories'}\n",
      "Related Tables: {'order_details', 'suppliers', 'customer_customer_demo', 'employees', 'products', 'shippers', 'customers', 'customer_demographics', 'orders', 'categories'}\n",
      "Related Tables: {'order_details', 'suppliers', 'territories', 'region', 'customer_customer_demo', 'employees', 'products', 'shippers', 'customers', 'customer_demographics', 'employee_territories', 'orders', 'categories'}\n",
      "Related Tables: {'order_details', 'suppliers', 'customer_customer_demo', 'employees', 'products', 'shippers', 'customers', 'customer_demographics', 'orders', 'categories'}\n",
      "Related Tables: {'order_details', 'suppliers', 'customer_customer_demo', 'employees', 'products', 'shippers', 'customers', 'customer_demographics', 'orders', 'categories'}\n",
      "Related Tables: {'order_details', 'suppliers', 'customer_customer_demo', 'employees', 'products', 'shippers', 'customers', 'customer_demographics', 'orders', 'categories'}\n",
      "Related Tables: {'order_details', 'suppliers', 'customer_customer_demo', 'employees', 'products', 'shippers', 'customers', 'customer_demographics', 'orders', 'categories'}\n",
      "Related Tables: {'order_details', 'suppliers', 'customer_customer_demo', 'employees', 'products', 'shippers', 'customers', 'customer_demographics', 'orders', 'categories'}\n",
      "Related Tables: {'order_details', 'suppliers', 'customer_customer_demo', 'employees', 'products', 'shippers', 'customers', 'customer_demographics', 'orders', 'categories'}\n",
      "Related Tables: {'order_details', 'suppliers', 'territories', 'region', 'customer_customer_demo', 'employees', 'products', 'shippers', 'customers', 'customer_demographics', 'employee_territories', 'orders', 'categories'}\n",
      "Related Tables: {'order_details', 'suppliers', 'customer_customer_demo', 'employees', 'products', 'shippers', 'customers', 'customer_demographics', 'orders', 'categories'}\n",
      "Related Tables: {'order_details', 'suppliers', 'territories', 'region', 'customer_customer_demo', 'employees', 'products', 'shippers', 'customers', 'customer_demographics', 'employee_territories', 'orders', 'categories'}\n",
      "Related Tables: {'order_details', 'suppliers', 'customer_customer_demo', 'employees', 'products', 'shippers', 'customers', 'customer_demographics', 'orders', 'categories'}\n",
      "Related Tables: {'order_details', 'suppliers', 'territories', 'region', 'customer_customer_demo', 'employees', 'products', 'shippers', 'customers', 'customer_demographics', 'employee_territories', 'orders', 'categories'}\n",
      "Related Tables: {'order_details', 'suppliers', 'territories', 'region', 'customer_customer_demo', 'employees', 'products', 'shippers', 'customers', 'customer_demographics', 'employee_territories', 'orders', 'categories'}\n",
      "Related Tables: {'order_details', 'suppliers', 'customer_customer_demo', 'employees', 'products', 'shippers', 'customers', 'customer_demographics', 'orders', 'categories'}\n",
      "Related Tables: {'order_details', 'suppliers', 'territories', 'region', 'customer_customer_demo', 'employees', 'products', 'shippers', 'customers', 'customer_demographics', 'employee_territories', 'orders', 'categories'}\n",
      "Related Tables: {'order_details', 'suppliers', 'customer_customer_demo', 'employees', 'products', 'shippers', 'customers', 'customer_demographics', 'orders', 'categories'}\n",
      "Related Tables: {'order_details', 'suppliers', 'customer_customer_demo', 'employees', 'products', 'shippers', 'customers', 'customer_demographics', 'orders', 'categories'}\n",
      "Related Tables: {'order_details', 'suppliers', 'customer_customer_demo', 'employees', 'products', 'shippers', 'customers', 'customer_demographics', 'orders', 'categories'}\n",
      "Related Tables: {'order_details', 'suppliers', 'customer_customer_demo', 'employees', 'products', 'shippers', 'customers', 'customer_demographics', 'orders', 'categories'}\n",
      "Related Tables: {'order_details', 'suppliers', 'territories', 'region', 'customer_customer_demo', 'employees', 'products', 'shippers', 'customers', 'customer_demographics', 'employee_territories', 'orders', 'categories'}\n",
      "Related Tables: {'order_details', 'suppliers', 'customer_customer_demo', 'employees', 'products', 'shippers', 'customers', 'customer_demographics', 'orders', 'categories'}\n",
      "Related Tables: {'order_details', 'suppliers', 'territories', 'region', 'customer_customer_demo', 'employees', 'products', 'shippers', 'customers', 'customer_demographics', 'employee_territories', 'orders', 'categories'}\n",
      "Related Tables: {'order_details', 'suppliers', 'customer_customer_demo', 'employees', 'products', 'shippers', 'customers', 'customer_demographics', 'orders', 'categories'}\n",
      "Related Tables: {'order_details', 'suppliers', 'customer_customer_demo', 'employees', 'products', 'shippers', 'customers', 'customer_demographics', 'orders', 'categories'}\n",
      "Related Tables: {'order_details', 'suppliers', 'customer_customer_demo', 'employees', 'products', 'shippers', 'customers', 'customer_demographics', 'orders', 'categories'}\n"
     ]
    }
   ],
   "source": [
    "accuracies = []\n",
    "predicted_tables_list = []\n",
    "\n",
    "for _, row in dataset.iterrows():\n",
    "    prompt = row[\"prompt\"]\n",
    "    true_tables = set(row[\"tables_used\"])\n",
    "\n",
    "    predicted_schema = text_to_sql_model.predict_schema_only(prompt)\n",
    "    predicted_tables = set(extract_table_names_from_schema(predicted_schema))\n",
    "\n",
    "    # Save predicted tables\n",
    "    predicted_tables_list.append(list(predicted_tables))\n",
    "\n",
    "    # Calculate accuracy\n",
    "    intersection_count = len(true_tables.intersection(predicted_tables))\n",
    "    total_true_tables = len(true_tables)\n",
    "\n",
    "    if total_true_tables > 0:\n",
    "        accuracy = intersection_count / total_true_tables\n",
    "    else:\n",
    "        accuracy = 1.0 if not predicted_tables else 0.0\n",
    "\n",
    "    accuracies.append(accuracy)"
   ]
  },
  {
   "cell_type": "code",
   "execution_count": 30,
   "id": "2655543f",
   "metadata": {},
   "outputs": [],
   "source": [
    "dataset[\"predicted_tables\"] = predicted_tables_list\n",
    "dataset[\"schema_accuracy\"] = accuracies\n",
    "dataset['schema_reduction'] = dataset['predicted_tables'].apply(calculate_reduction)"
   ]
  },
  {
   "cell_type": "code",
   "execution_count": 31,
   "id": "e8564dab",
   "metadata": {},
   "outputs": [
    {
     "name": "stdout",
     "output_type": "stream",
     "text": [
      "Schema Prediction Accuracy (Intersection-Based): 100.00%\n",
      "Average Schema Reduction: 22.29%\n"
     ]
    }
   ],
   "source": [
    "final_accuracy = sum(accuracies) / len(accuracies)\n",
    "print(f\"Schema Prediction Accuracy (Intersection-Based): {final_accuracy:.2%}\")\n",
    "\n",
    "average_reduction = dataset['schema_reduction'].mean()\n",
    "print(f\"Average Schema Reduction: {average_reduction:.2%}\")"
   ]
  },
  {
   "cell_type": "markdown",
   "id": "b7e521b9",
   "metadata": {},
   "source": [
    "# Save"
   ]
  },
  {
   "cell_type": "code",
   "execution_count": 32,
   "id": "02e793c2",
   "metadata": {},
   "outputs": [],
   "source": [
    "dataset.to_csv(f\"{output_dir}/{MODEL}_{DATABASE}_schema_linker.csv\", index=False)"
   ]
  }
 ],
 "metadata": {
  "kernelspec": {
   "display_name": "Python 3",
   "language": "python",
   "name": "python3"
  },
  "language_info": {
   "codemirror_mode": {
    "name": "ipython",
    "version": 3
   },
   "file_extension": ".py",
   "mimetype": "text/x-python",
   "name": "python",
   "nbconvert_exporter": "python",
   "pygments_lexer": "ipython3",
   "version": "3.9.6"
  }
 },
 "nbformat": 4,
 "nbformat_minor": 5
}
