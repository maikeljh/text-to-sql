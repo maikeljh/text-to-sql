{
 "cells": [
  {
   "cell_type": "markdown",
   "id": "a407158e",
   "metadata": {},
   "source": [
    "# Import Libraries"
   ]
  },
  {
   "cell_type": "code",
   "execution_count": 1,
   "id": "6aeb2a57",
   "metadata": {},
   "outputs": [],
   "source": [
    "import sys\n",
    "import os\n",
    "\n",
    "notebook_dir = os.getcwd()\n",
    "parent_dir = os.path.abspath(os.path.join(notebook_dir, '..'))\n",
    "\n",
    "if parent_dir not in sys.path:\n",
    "    sys.path.insert(0, parent_dir)"
   ]
  },
  {
   "cell_type": "code",
   "execution_count": 2,
   "id": "154e7328",
   "metadata": {},
   "outputs": [
    {
     "name": "stdout",
     "output_type": "stream",
     "text": [
      "WARNING:tensorflow:From c:\\Users\\michj\\AppData\\Local\\Programs\\Python\\Python39\\lib\\site-packages\\tf_keras\\src\\losses.py:2976: The name tf.losses.sparse_softmax_cross_entropy is deprecated. Please use tf.compat.v1.losses.sparse_softmax_cross_entropy instead.\n",
      "\n"
     ]
    }
   ],
   "source": [
    "from text_to_sql import (\n",
    "    TextToSQL,\n",
    "    Config,\n",
    "    LLMConfig,\n",
    "    SLConfig,\n",
    "    ContextConfig,\n",
    "    QueryConfig,\n",
    ")\n",
    "from dotenv import load_dotenv\n",
    "from datetime import datetime\n",
    "\n",
    "import pandas as pd\n",
    "import os"
   ]
  },
  {
   "cell_type": "markdown",
   "id": "6b891f0f",
   "metadata": {},
   "source": [
    "# Constants"
   ]
  },
  {
   "cell_type": "code",
   "execution_count": 3,
   "id": "e526e88a",
   "metadata": {},
   "outputs": [],
   "source": [
    "DATABASE = \"northwind\"\n",
    "MODEL = \"gemini-1.5-pro\"\n",
    "PROVIDER = \"gemini\"\n",
    "TOTAL_TABLES = 14"
   ]
  },
  {
   "cell_type": "markdown",
   "id": "739d3e86",
   "metadata": {},
   "source": [
    "# Load Environment"
   ]
  },
  {
   "cell_type": "code",
   "execution_count": 4,
   "id": "6ccae627",
   "metadata": {},
   "outputs": [
    {
     "data": {
      "text/plain": [
       "True"
      ]
     },
     "execution_count": 4,
     "metadata": {},
     "output_type": "execute_result"
    }
   ],
   "source": [
    "load_dotenv()"
   ]
  },
  {
   "cell_type": "markdown",
   "id": "e59f14d8",
   "metadata": {},
   "source": [
    "# Set Timestamp Experiment"
   ]
  },
  {
   "cell_type": "code",
   "execution_count": 5,
   "id": "40cf4cbc",
   "metadata": {},
   "outputs": [],
   "source": [
    "timestamp = datetime.now().strftime(\"%Y_%m_%d_%H_%M\")\n",
    "output_dir = f\"../files/experiment_result/{timestamp}\"\n",
    "os.makedirs(output_dir, exist_ok=True)"
   ]
  },
  {
   "cell_type": "markdown",
   "id": "c0ee59a2",
   "metadata": {},
   "source": [
    "# Config"
   ]
  },
  {
   "cell_type": "code",
   "execution_count": 6,
   "id": "ebda1ab5",
   "metadata": {},
   "outputs": [],
   "source": [
    "db_key = DATABASE.upper().replace(\"-\", \"_\")\n",
    "provider_key = PROVIDER.upper().replace(\"-\", \"_\")\n",
    "\n",
    "config = Config(\n",
    "    max_retry_attempt=5,\n",
    "    rewriter_config=LLMConfig(\n",
    "        type=\"api\",\n",
    "        model=MODEL,\n",
    "        provider=PROVIDER,\n",
    "        api_key=os.getenv(f\"API_KEY_{provider_key}\"),\n",
    "    ),\n",
    "    query_generator_config=LLMConfig(\n",
    "        type=\"api\",\n",
    "        model=MODEL,\n",
    "        provider=PROVIDER,\n",
    "        api_key=os.getenv(f\"API_KEY_{provider_key}\"),\n",
    "    ),\n",
    "    schema_linker_config=SLConfig(\n",
    "        type=\"api\",\n",
    "        model=MODEL,\n",
    "        provider=PROVIDER,\n",
    "        api_key=os.getenv(f\"API_KEY_{provider_key}\"),\n",
    "        schema_path=f\"../files/schema/{DATABASE}.txt\",\n",
    "        metadata_path=f\"../files/metadata/{DATABASE}.json\",\n",
    "    ),\n",
    "    retrieve_context_config=ContextConfig(data_path=f\"../files/dataset/dataset_{DATABASE}.csv\"),\n",
    "    query_executor_config = QueryConfig(\n",
    "        host=os.getenv(f\"DB_HOST_{db_key}\"),\n",
    "        database=os.getenv(f\"DB_DATABASE_{db_key}\"),\n",
    "        user=os.getenv(f\"DB_USER_{db_key}\"),\n",
    "        password=os.getenv(f\"DB_PASSWORD_{db_key}\"),\n",
    "        port=os.getenv(f\"DB_PORT_{db_key}\"),\n",
    "    ),\n",
    ")"
   ]
  },
  {
   "cell_type": "markdown",
   "id": "b2e43180",
   "metadata": {},
   "source": [
    "# Model"
   ]
  },
  {
   "cell_type": "code",
   "execution_count": 7,
   "id": "a177574c",
   "metadata": {},
   "outputs": [
    {
     "name": "stdout",
     "output_type": "stream",
     "text": [
      "Initializing API client for gemini using model gemini-1.5-pro.\n",
      "Initializing API client for gemini using model gemini-1.5-pro.\n",
      "Initializing API client for gemini using model gemini-1.5-pro.\n"
     ]
    },
    {
     "name": "stderr",
     "output_type": "stream",
     "text": [
      "c:\\Users\\michj\\AppData\\Local\\Programs\\Python\\Python39\\lib\\site-packages\\mlflow\\protos\\service_pb2.py:11: UserWarning: google.protobuf.service module is deprecated. RPC implementations should provide code generator plugins which generate code specific to the RPC implementation. service.py will be removed in Jan 2025\n",
      "  from google.protobuf import service as _service\n"
     ]
    }
   ],
   "source": [
    "text_to_sql_model = TextToSQL(config=config)"
   ]
  },
  {
   "cell_type": "markdown",
   "id": "836923aa",
   "metadata": {},
   "source": [
    "# Experiment"
   ]
  },
  {
   "cell_type": "code",
   "execution_count": 8,
   "id": "bad15eed",
   "metadata": {},
   "outputs": [
    {
     "name": "stdout",
     "output_type": "stream",
     "text": [
      "User Prompt: tampilin itu pesen yg bnyk dri kota smw aj klo bsa cepet\n"
     ]
    }
   ],
   "source": [
    "# Rewriter prompt\n",
    "user_prompt = \"tampilin itu pesen yg bnyk dri kota smw aj klo bsa cepet\"\n",
    "print(f\"User Prompt: {user_prompt}\")"
   ]
  },
  {
   "cell_type": "code",
   "execution_count": 9,
   "id": "035d9c0b",
   "metadata": {},
   "outputs": [
    {
     "name": "stdout",
     "output_type": "stream",
     "text": [
      "Rewritten Prompt: Display all orders from every city as quickly as possible.\n",
      "\n"
     ]
    }
   ],
   "source": [
    "rewritten_prompt = text_to_sql_model.predict_rewriter_only(user_prompt)\n",
    "print(f\"Rewritten Prompt: {rewritten_prompt}\")"
   ]
  },
  {
   "cell_type": "code",
   "execution_count": null,
   "id": "e6b4f5c3",
   "metadata": {},
   "outputs": [
    {
     "name": "stdout",
     "output_type": "stream",
     "text": [
      "User Prompt: Show all orders from every city\n"
     ]
    }
   ],
   "source": [
    "# Schema Linking\n",
    "user_prompt = \"Show all orders from every city\"\n",
    "print(f\"User Prompt: {user_prompt}\")"
   ]
  },
  {
   "cell_type": "code",
   "execution_count": 11,
   "id": "b2c82bfb",
   "metadata": {},
   "outputs": [
    {
     "name": "stdout",
     "output_type": "stream",
     "text": [
      "Related Tables: {'customers', 'order_details', 'employees', 'shippers', 'orders'}\n"
     ]
    }
   ],
   "source": [
    "schema = text_to_sql_model.predict_schema_only(user_prompt)"
   ]
  },
  {
   "cell_type": "code",
   "execution_count": 24,
   "id": "b8cc21bb",
   "metadata": {},
   "outputs": [
    {
     "name": "stdout",
     "output_type": "stream",
     "text": [
      "User Prompt: Which city has the highest number of orders that were shipped late? Show city and late_order_count.\n",
      "{'relevant_question': 'What are the top 3 cities with the highest number of orders? Show city and total_orders.', 'relevant_answer': 'SELECT ship_city AS city, COUNT(order_id) AS total_orders\\n  FROM orders\\n  WHERE ship_city IS NOT NULL\\n  GROUP BY ship_city\\n  ORDER BY total_orders DESC\\n  LIMIT 3;', 'relevant_summary': \"This SQL query identifies the top 3 cities with the highest number of orders by analyzing the 'orders' table. It counts orders per city (excluding NULL values), groups by 'ship_city', and returns the cities with the most orders in descending order. Key operations include COUNT aggregation, GROUP BY, and ORDER BY with LIMIT. The primary metric is 'total_orders', showing order volume by destination city. The WHERE clause filters out NULL values to ensure data quality. The output helps identify key markets and shipping destinations, valuable for logistics planning and regional sales analysis. Potential modifications include: (1) adding a date filter to analyze recent order trends by city, (2) joining with customer data to differentiate between business and consumer orders, or (3) calculating order value by city by incorporating order_details data. This query could answer questions like 'Which cities receive the most orders?' or 'Where should we focus our shipping infrastructure improvements?'\"}\n"
     ]
    }
   ],
   "source": [
    "# Relevant Example\n",
    "user_prompt = \"Which city has the highest number of orders that were shipped late? Show city and late_order_count.\"\n",
    "print(f\"User Prompt: {user_prompt}\")\n",
    "example = text_to_sql_model.predict_relevance_only(user_prompt)\n",
    "print(example)"
   ]
  },
  {
   "cell_type": "code",
   "execution_count": 23,
   "id": "bb5b9d67",
   "metadata": {},
   "outputs": [
    {
     "name": "stdout",
     "output_type": "stream",
     "text": [
      "{'relevant_question': 'What are the top 3 cities with the highest number of orders? Show city and total_orders.', 'relevant_answer': 'SELECT ship_city AS city, COUNT(order_id) AS total_orders\\n  FROM orders\\n  WHERE ship_city IS NOT NULL\\n  GROUP BY ship_city\\n  ORDER BY total_orders DESC\\n  LIMIT 3;', 'relevant_summary': \"This SQL query identifies the top 3 cities with the highest number of orders by analyzing the 'orders' table. It counts orders per city (excluding NULL values), groups by 'ship_city', and returns the cities with the most orders in descending order. Key operations include COUNT aggregation, GROUP BY, and ORDER BY with LIMIT. The primary metric is 'total_orders', showing order volume by destination city. The WHERE clause filters out NULL values to ensure data quality. The output helps identify key markets and shipping destinations, valuable for logistics planning and regional sales analysis. Potential modifications include: (1) adding a date filter to analyze recent order trends by city, (2) joining with customer data to differentiate between business and consumer orders, or (3) calculating order value by city by incorporating order_details data. This query could answer questions like 'Which cities receive the most orders?' or 'Where should we focus our shipping infrastructure improvements?'\"}\n"
     ]
    }
   ],
   "source": [
    "example = text_to_sql_model.predict_relevance_only(user_prompt)\n",
    "print(example)"
   ]
  },
  {
   "cell_type": "code",
   "execution_count": null,
   "id": "df6f82ae",
   "metadata": {},
   "outputs": [],
   "source": []
  }
 ],
 "metadata": {
  "kernelspec": {
   "display_name": "Python 3",
   "language": "python",
   "name": "python3"
  },
  "language_info": {
   "codemirror_mode": {
    "name": "ipython",
    "version": 3
   },
   "file_extension": ".py",
   "mimetype": "text/x-python",
   "name": "python",
   "nbconvert_exporter": "python",
   "pygments_lexer": "ipython3",
   "version": "3.9.6"
  }
 },
 "nbformat": 4,
 "nbformat_minor": 5
}
