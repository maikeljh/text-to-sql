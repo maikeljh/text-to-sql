{
 "cells": [
  {
   "cell_type": "markdown",
   "id": "a407158e",
   "metadata": {},
   "source": [
    "# Import Libraries"
   ]
  },
  {
   "cell_type": "code",
   "execution_count": 24,
   "id": "6aeb2a57",
   "metadata": {},
   "outputs": [],
   "source": [
    "import sys\n",
    "import os\n",
    "\n",
    "notebook_dir = os.getcwd()\n",
    "parent_dir = os.path.abspath(os.path.join(notebook_dir, '..'))\n",
    "\n",
    "if parent_dir not in sys.path:\n",
    "    sys.path.insert(0, parent_dir)"
   ]
  },
  {
   "cell_type": "code",
   "execution_count": 25,
   "id": "154e7328",
   "metadata": {},
   "outputs": [],
   "source": [
    "from text_to_sql import (\n",
    "    TextToSQL,\n",
    "    Config,\n",
    "    LLMConfig,\n",
    "    SLConfig,\n",
    "    ContextConfig,\n",
    "    QueryConfig,\n",
    ")\n",
    "from dotenv import load_dotenv\n",
    "from datetime import datetime\n",
    "\n",
    "import pandas as pd\n",
    "import os"
   ]
  },
  {
   "cell_type": "markdown",
   "id": "6b891f0f",
   "metadata": {},
   "source": [
    "# Constants"
   ]
  },
  {
   "cell_type": "code",
   "execution_count": 26,
   "id": "e526e88a",
   "metadata": {},
   "outputs": [],
   "source": [
    "DATABASE = \"academic\"\n",
    "MODEL = \"gemini-1.5-pro\"\n",
    "PROVIDER = \"gemini\"\n",
    "MAX_RETRIES = 5\n",
    "RETRY_DELAY = 2"
   ]
  },
  {
   "cell_type": "markdown",
   "id": "739d3e86",
   "metadata": {},
   "source": [
    "# Load Environment"
   ]
  },
  {
   "cell_type": "code",
   "execution_count": 27,
   "id": "6ccae627",
   "metadata": {},
   "outputs": [
    {
     "data": {
      "text/plain": [
       "True"
      ]
     },
     "execution_count": 27,
     "metadata": {},
     "output_type": "execute_result"
    }
   ],
   "source": [
    "load_dotenv()"
   ]
  },
  {
   "cell_type": "markdown",
   "id": "e59f14d8",
   "metadata": {},
   "source": [
    "# Set Timestamp Experiment"
   ]
  },
  {
   "cell_type": "code",
   "execution_count": 28,
   "id": "40cf4cbc",
   "metadata": {},
   "outputs": [],
   "source": [
    "timestamp = datetime.now().strftime(\"%Y_%m_%d_%H_%M\")\n",
    "output_dir = f\"../files/experiment_result/{timestamp}\"\n",
    "os.makedirs(output_dir, exist_ok=True)"
   ]
  },
  {
   "cell_type": "markdown",
   "id": "c0ee59a2",
   "metadata": {},
   "source": [
    "# Config"
   ]
  },
  {
   "cell_type": "code",
   "execution_count": 29,
   "id": "ebda1ab5",
   "metadata": {},
   "outputs": [],
   "source": [
    "db_key = DATABASE.upper().replace(\"-\", \"_\")\n",
    "provider_key = PROVIDER.upper().replace(\"-\", \"_\")\n",
    "\n",
    "config = Config(\n",
    "    max_retry_attempt=5,\n",
    "    rewriter_config=LLMConfig(\n",
    "        type=\"api\",\n",
    "        model=MODEL,\n",
    "        provider=PROVIDER,\n",
    "        api_key=os.getenv(f\"API_KEY_{provider_key}\"),\n",
    "    ),\n",
    "    query_generator_config=LLMConfig(\n",
    "        type=\"api\",\n",
    "        model=MODEL,\n",
    "        provider=PROVIDER,\n",
    "        api_key=os.getenv(f\"API_KEY_{provider_key}\"),\n",
    "    ),\n",
    "    schema_linker_config=SLConfig(\n",
    "        type=\"api\",\n",
    "        model=MODEL,\n",
    "        provider=PROVIDER,\n",
    "        api_key=os.getenv(f\"API_KEY_{provider_key}\"),\n",
    "        schema_path=f\"../files/schema/{DATABASE}.txt\",\n",
    "        metadata_path=f\"../files/metadata/{DATABASE}.json\",\n",
    "    ),\n",
    "    retrieve_context_config=ContextConfig(data_path=f\"../files/dataset/dataset_{DATABASE}_example.csv\"),\n",
    "    query_executor_config = QueryConfig(\n",
    "        host=os.getenv(f\"DB_HOST_{db_key}\"),\n",
    "        database=os.getenv(f\"DB_DATABASE_{db_key}\"),\n",
    "        user=os.getenv(f\"DB_USER_{db_key}\"),\n",
    "        password=os.getenv(f\"DB_PASSWORD_{db_key}\"),\n",
    "        port=os.getenv(f\"DB_PORT_{db_key}\"),\n",
    "    ),\n",
    ")"
   ]
  },
  {
   "cell_type": "markdown",
   "id": "b2e43180",
   "metadata": {},
   "source": [
    "# Model"
   ]
  },
  {
   "cell_type": "code",
   "execution_count": 30,
   "id": "a177574c",
   "metadata": {},
   "outputs": [
    {
     "name": "stdout",
     "output_type": "stream",
     "text": [
      "Initializing API client for gemini using model gemini-1.5-pro.\n",
      "Initializing API client for gemini using model gemini-1.5-pro.\n",
      "Initializing API client for gemini using model gemini-1.5-pro.\n"
     ]
    }
   ],
   "source": [
    "text_to_sql_model = TextToSQL(config=config)"
   ]
  },
  {
   "cell_type": "code",
   "execution_count": 31,
   "id": "7a92849d",
   "metadata": {},
   "outputs": [],
   "source": [
    "user_prompt = \"Which faculty uses the most facilities?\""
   ]
  },
  {
   "cell_type": "markdown",
   "id": "836923aa",
   "metadata": {},
   "source": [
    "# Experiment"
   ]
  },
  {
   "cell_type": "code",
   "execution_count": 32,
   "id": "b26af501",
   "metadata": {},
   "outputs": [
    {
     "name": "stdout",
     "output_type": "stream",
     "text": [
      "Generated SQL Query: SELECT f.nama FROM Fakultas AS f JOIN FasilitasFakultas AS ff ON f.id_fakultas = ff.id_fakultas GROUP BY f.nama ORDER BY COUNT(ff.id_fasilitas) DESC LIMIT 1;\n",
      "\n",
      "SELECT f.nama FROM Fakultas AS f JOIN FasilitasFakultas AS ff ON f.id_fakultas = ff.id_fakultas GROUP BY f.nama ORDER BY COUNT(ff.id_fasilitas) DESC LIMIT 1;\n"
     ]
    }
   ],
   "source": [
    "# Baseline\n",
    "query = text_to_sql_model.generate_baseline(user_prompt)\n",
    "print(query)"
   ]
  },
  {
   "cell_type": "code",
   "execution_count": 33,
   "id": "e493dc71",
   "metadata": {},
   "outputs": [
    {
     "name": "stdout",
     "output_type": "stream",
     "text": [
      "Entities: ['fakultas', 'fasilitas', 'fasilitasfakultas']\n",
      "Entity Embeddings: tensor([[-0.0858,  0.0030, -0.1152,  ...,  0.0751,  0.0536,  0.0192],\n",
      "        [-0.0083,  0.0028, -0.0205,  ...,  0.0032,  0.1153,  0.0406],\n",
      "        [-0.0313,  0.0165, -0.0624,  ...,  0.0726,  0.1328,  0.0336]],\n",
      "       device='cuda:0')\n",
      "Similarity Scores: [('fasilitas', 0.915180429816246), ('fasilitasfakultas', 0.8786247670650482), ('fakultas', 0.7151243090629578), ('keanggotaanklub', 0.574022650718689), ('mahasiswa', 0.552211657166481), ('jurusan', 0.5305024534463882), ('hasilujian', 0.5027420520782471), ('matakuliah', 0.4761573076248169), ('partisipasipenelitian', 0.44340774416923523), ('proyekpenelitian', 0.4387131482362747), ('peminjamanbuku', 0.4334169551730156), ('publikasi', 0.41327446699142456), ('organisasiklub', 0.36894214153289795), ('kelas', 0.32284481450915337), ('catatankehadiran', 0.3000359386205673), ('penulispublikasi', 0.2943468987941742), ('dosen', 0.2878614403307438), ('enrolmenkelas', 0.2784087546169758), ('nilai', 0.27142419666051865), ('ujian', 0.2606935277581215), ('bukuperpustakaan', 0.23811274021863937), ('sesi', 0.05461043771356344)]\n",
      "Top Tables: ['fasilitas', 'fasilitasfakultas', 'fakultas']\n",
      "Related Tables: {'fakultas', 'fasilitasfakultas', 'dosen', 'fasilitas', 'jurusan'}\n",
      "Generated SQL Query: SELECT f.nama FROM Fakultas AS f JOIN FasilitasFakultas AS ff ON f.id_fakultas = ff.id_fakultas GROUP BY f.nama ORDER BY COUNT(ff.id_fasilitas) DESC LIMIT 1\n",
      "\n",
      "SELECT f.nama FROM Fakultas AS f JOIN FasilitasFakultas AS ff ON f.id_fakultas = ff.id_fakultas GROUP BY f.nama ORDER BY COUNT(ff.id_fasilitas) DESC LIMIT 1\n"
     ]
    }
   ],
   "source": [
    "# Schema Linking\n",
    "query = text_to_sql_model.predict_sql_schema_only(user_prompt)\n",
    "print(query)"
   ]
  },
  {
   "cell_type": "code",
   "execution_count": 34,
   "id": "172b5b9e",
   "metadata": {},
   "outputs": [
    {
     "name": "stdout",
     "output_type": "stream",
     "text": [
      "Relevant Example: {'relevant_question': 'Which faculty has the most research projects? If there is a tie, show any of the tying faculty. Show the nama and total_proyek.', 'relevant_answer': 'SELECT f.nama, COUNT(p.id_proyek) AS total_proyek\\n  FROM Fakultas f\\n  JOIN ProyekPenelitian p ON f.id_fakultas = p.id_fakultas\\n  GROUP BY f.nama\\n  ORDER BY total_proyek DESC\\n  LIMIT 1;', 'relevant_summary': \"This SQL query identifies the faculty with the highest number of research projects by joining the 'Fakultas' (Faculty) and 'ProyekPenelitian' (Research Projects) tables. It counts projects per faculty and returns the faculty with the most projects, highlighting research activity distribution across faculties. The output helps academic institutions understand research productivity and allocate resources effectively. Key operations include a table JOIN, COUNT aggregation, and ORDER BY with LIMIT to identify the top faculty. The query can be modified to: 1) include time periods to analyze research trends, 2) add funding amounts to assess financial impact, or 3) filter by project status to focus on active research. It helps answer questions like 'Which faculty leads in research output?' and 'How should research funding be allocated across faculties?'\"}\n",
      "Generated SQL Query: SELECT f.nama\n",
      "FROM Fakultas f\n",
      "JOIN FasilitasFakultas ff ON f.id_fakultas = ff.id_fakultas\n",
      "GROUP BY f.nama\n",
      "ORDER BY COUNT(ff.id_fasilitas) DESC\n",
      "LIMIT 1;\n",
      "\n",
      "SELECT f.nama\n",
      "FROM Fakultas f\n",
      "JOIN FasilitasFakultas ff ON f.id_fakultas = ff.id_fakultas\n",
      "GROUP BY f.nama\n",
      "ORDER BY COUNT(ff.id_fasilitas) DESC\n",
      "LIMIT 1;\n"
     ]
    }
   ],
   "source": [
    "# Relevant Example\n",
    "query = text_to_sql_model.predict_sql_with_example_only(user_prompt)\n",
    "print(query)"
   ]
  },
  {
   "cell_type": "code",
   "execution_count": 35,
   "id": "2aa210d0",
   "metadata": {},
   "outputs": [
    {
     "name": "stdout",
     "output_type": "stream",
     "text": [
      "Generated SQL Query: SELECT f.nama FROM Fakultas f JOIN FasilitasFakultas ff ON f.id_fakultas = ff.id_fakultas GROUP BY f.nama ORDER BY COUNT(ff.id_fasilitas) DESC LIMIT 1;\n",
      "\n",
      "SELECT f.nama FROM Fakultas f JOIN FasilitasFakultas ff ON f.id_fakultas = ff.id_fakultas GROUP BY f.nama ORDER BY COUNT(ff.id_fasilitas) DESC LIMIT 1;\n"
     ]
    }
   ],
   "source": [
    "# Multistage Generation\n",
    "query = text_to_sql_model.predict_sql_multistage_only(user_prompt)\n",
    "print(query)"
   ]
  },
  {
   "cell_type": "code",
   "execution_count": 36,
   "id": "c7f29a76",
   "metadata": {},
   "outputs": [
    {
     "name": "stdout",
     "output_type": "stream",
     "text": [
      "Sub-questions: ['1. List all facilities and the faculty they are associated with.', '2. Count the number of facilities used by each faculty.', '3. Find the maximum number of facilities used by any faculty.', '4.  Identify the faculty (or faculties) that use the maximum number of facilities found in the previous step.']\n",
      "Generated SQL Query: SELECT f.nama AS nama_fasilitas, fa.nama AS nama_fakultas\n",
      "FROM Fasilitas AS f\n",
      "JOIN FasilitasFakultas AS ff ON f.id_fasilitas = ff.id_fasilitas\n",
      "JOIN Fakultas AS fa ON ff.id_fakultas = fa.id_fakultas;\n",
      "\n",
      "Generated SQL Query: SELECT f.nama, COUNT(ff.id_fasilitas) AS jumlah_fasilitas FROM Fakultas f LEFT JOIN FasilitasFakultas ff ON f.id_fakultas = ff.id_fakultas GROUP BY f.nama\n",
      "\n",
      "Generated SQL Query: SELECT MAX(facility_count) FROM (SELECT COUNT(id_fasilitas) AS facility_count FROM FasilitasFakultas GROUP BY id_fakultas) AS subquery;\n",
      "\n",
      "Generated SQL Query: SELECT nama FROM Fakultas WHERE id_fakultas IN (SELECT id_fakultas FROM FasilitasFakultas GROUP BY id_fakultas ORDER BY COUNT(*) DESC LIMIT 1)\n",
      "\n",
      "Steps: [{'step': '1. List all facilities and the faculty they are associated with.', 'sql': 'SELECT f.nama AS nama_fasilitas, fa.nama AS nama_fakultas\\nFROM Fasilitas AS f\\nJOIN FasilitasFakultas AS ff ON f.id_fasilitas = ff.id_fasilitas\\nJOIN Fakultas AS fa ON ff.id_fakultas = fa.id_fakultas;'}, {'step': '2. Count the number of facilities used by each faculty.', 'sql': 'SELECT f.nama, COUNT(ff.id_fasilitas) AS jumlah_fasilitas FROM Fakultas f LEFT JOIN FasilitasFakultas ff ON f.id_fakultas = ff.id_fakultas GROUP BY f.nama'}, {'step': '3. Find the maximum number of facilities used by any faculty.', 'sql': 'SELECT MAX(facility_count) FROM (SELECT COUNT(id_fasilitas) AS facility_count FROM FasilitasFakultas GROUP BY id_fakultas) AS subquery;'}, {'step': '4.  Identify the faculty (or faculties) that use the maximum number of facilities found in the previous step.', 'sql': 'SELECT nama FROM Fakultas WHERE id_fakultas IN (SELECT id_fakultas FROM FasilitasFakultas GROUP BY id_fakultas ORDER BY COUNT(*) DESC LIMIT 1)'}]\n",
      "Generated SQL Query: SELECT nama FROM Fakultas WHERE id_fakultas IN (SELECT id_fakultas FROM FasilitasFakultas GROUP BY id_fakultas ORDER BY COUNT(*) DESC LIMIT 1)\n",
      "\n",
      "SELECT nama FROM Fakultas WHERE id_fakultas IN (SELECT id_fakultas FROM FasilitasFakultas GROUP BY id_fakultas ORDER BY COUNT(*) DESC LIMIT 1)\n"
     ]
    }
   ],
   "source": [
    "# Incremental Generation\n",
    "query = text_to_sql_model.predict_sql_incremental_only(user_prompt)\n",
    "print(query)"
   ]
  },
  {
   "cell_type": "code",
   "execution_count": 37,
   "id": "9e87daa0",
   "metadata": {},
   "outputs": [
    {
     "name": "stdout",
     "output_type": "stream",
     "text": [
      "Rewritten Prompt :Retrieve the faculty who have used the most facilities.\n",
      "\n",
      "Relevant Example: {'relevant_question': 'Which faculty has the most research projects? If there is a tie, show any of the tying faculty. Show the nama and total_proyek.', 'relevant_answer': 'SELECT f.nama, COUNT(p.id_proyek) AS total_proyek\\n  FROM Fakultas f\\n  JOIN ProyekPenelitian p ON f.id_fakultas = p.id_fakultas\\n  GROUP BY f.nama\\n  ORDER BY total_proyek DESC\\n  LIMIT 1;', 'relevant_summary': \"This SQL query identifies the faculty with the highest number of research projects by joining the 'Fakultas' (Faculty) and 'ProyekPenelitian' (Research Projects) tables. It counts projects per faculty and returns the faculty with the most projects, highlighting research activity distribution across faculties. The output helps academic institutions understand research productivity and allocate resources effectively. Key operations include a table JOIN, COUNT aggregation, and ORDER BY with LIMIT to identify the top faculty. The query can be modified to: 1) include time periods to analyze research trends, 2) add funding amounts to assess financial impact, or 3) filter by project status to focus on active research. It helps answer questions like 'Which faculty leads in research output?' and 'How should research funding be allocated across faculties?'\"}\n",
      "Generated SQL Query: SELECT f.nama\n",
      "FROM Fakultas f\n",
      "JOIN FasilitasFakultas ff ON f.id_fakultas = ff.id_fakultas\n",
      "GROUP BY f.nama\n",
      "ORDER BY COUNT(ff.id_fasilitas) DESC\n",
      "LIMIT 1;\n",
      "\n",
      "SELECT f.nama\n",
      "FROM Fakultas f\n",
      "JOIN FasilitasFakultas ff ON f.id_fakultas = ff.id_fakultas\n",
      "GROUP BY f.nama\n",
      "ORDER BY COUNT(ff.id_fasilitas) DESC\n",
      "LIMIT 1;\n"
     ]
    }
   ],
   "source": [
    "# V1\n",
    "query = text_to_sql_model.generate_v1(user_prompt)\n",
    "print(query)"
   ]
  },
  {
   "cell_type": "code",
   "execution_count": 38,
   "id": "48ce8a28",
   "metadata": {},
   "outputs": [
    {
     "name": "stdout",
     "output_type": "stream",
     "text": [
      "Rewritten Prompt :Retrieve the faculty who have used the greatest number of facilities.\n",
      "\n",
      "Relevant Example: {'relevant_question': 'List all faculties along with their total number of research projects, total publications, and number of lecturers involved in either. Show nama, total_proyek, total_publikasi, total_dosen_aktif.', 'relevant_answer': 'SELECT f.nama,\\n  COUNT(DISTINCT p.id_proyek) AS total_proyek,\\n  COUNT(DISTINCT pb.id_publikasi) AS total_publikasi,\\n  COUNT(DISTINCT d.id_dosen) AS total_dosen_aktif\\n  FROM Fakultas f\\n  LEFT JOIN ProyekPenelitian p ON f.id_fakultas = p.id_fakultas\\n  LEFT JOIN Publikasi pb ON f.id_fakultas = pb.id_fakultas\\n  LEFT JOIN Dosen d ON d.id_fakultas = f.id_fakultas\\n  WHERE d.id_dosen IN (\\n  SELECT id_dosen FROM PenulisPublikasi\\n  UNION\\n  SELECT id_dosen FROM ProyekPenelitian\\n  )\\n  GROUP BY f.nama;', 'relevant_summary': \"This SQL query provides a comprehensive research activity overview by faculty by analyzing three key metrics: research projects, publications, and active faculty members. It joins the 'Fakultas' (Faculties) table with 'ProyekPenelitian' (Research Projects), 'Publikasi' (Publications), and 'Dosen' (Faculty) tables using LEFT JOINs to ensure all faculties are included. The query specifically counts distinct projects, publications, and faculty members who are actively involved in either publishing or research projects. The output helps academic administrators assess research productivity across different faculties and allocate resources effectively. Key operations include multiple LEFT JOINs, COUNT(DISTINCT) aggregations, and a subquery with UNION to identify active faculty. The query can be modified to: 1) add time filters to analyze research trends, 2) include funding amounts to assess financial impact, or 3) calculate ratios like publications per faculty. It helps answer strategic questions like 'Which faculties are most research-productive?' and 'How should research funding be distributed?'\"}\n",
      "Generated SQL Query: SELECT f.nama\n",
      "FROM Fakultas f\n",
      "JOIN FasilitasFakultas ff ON f.id_fakultas = ff.id_fakultas\n",
      "GROUP BY f.nama\n",
      "HAVING COUNT(DISTINCT ff.id_fasilitas) = (\n",
      "    SELECT MAX(facility_count)\n",
      "    FROM (\n",
      "        SELECT COUNT(DISTINCT id_fasilitas) AS facility_count\n",
      "        FROM FasilitasFakultas\n",
      "        GROUP BY id_fakultas\n",
      "    ) AS subquery\n",
      ");\n",
      "\n",
      "SELECT f.nama\n",
      "FROM Fakultas f\n",
      "JOIN FasilitasFakultas ff ON f.id_fakultas = ff.id_fakultas\n",
      "GROUP BY f.nama\n",
      "HAVING COUNT(DISTINCT ff.id_fasilitas) = (\n",
      "    SELECT MAX(facility_count)\n",
      "    FROM (\n",
      "        SELECT COUNT(DISTINCT id_fasilitas) AS facility_count\n",
      "        FROM FasilitasFakultas\n",
      "        GROUP BY id_fakultas\n",
      "    ) AS subquery\n",
      ");\n"
     ]
    }
   ],
   "source": [
    "# V2\n",
    "query = text_to_sql_model.generate_v2(user_prompt)\n",
    "print(query)"
   ]
  },
  {
   "cell_type": "code",
   "execution_count": 39,
   "id": "40d25369",
   "metadata": {},
   "outputs": [
    {
     "name": "stdout",
     "output_type": "stream",
     "text": [
      "Rewritten Prompt :Retrieve the faculty that uses the greatest number of facilities.\n",
      "\n",
      "Entities: ['fakultas', 'fasilitas', 'fasilitasfakultas']\n",
      "Entity Embeddings: tensor([[-0.0858,  0.0030, -0.1152,  ...,  0.0751,  0.0536,  0.0192],\n",
      "        [-0.0083,  0.0028, -0.0205,  ...,  0.0032,  0.1153,  0.0406],\n",
      "        [-0.0313,  0.0165, -0.0624,  ...,  0.0726,  0.1328,  0.0336]],\n",
      "       device='cuda:0')\n",
      "Similarity Scores: [('fasilitas', 0.915180429816246), ('fasilitasfakultas', 0.8786247670650482), ('fakultas', 0.7151243090629578), ('keanggotaanklub', 0.574022650718689), ('mahasiswa', 0.552211657166481), ('jurusan', 0.5305024534463882), ('hasilujian', 0.5027420520782471), ('matakuliah', 0.4761573076248169), ('partisipasipenelitian', 0.44340774416923523), ('proyekpenelitian', 0.4387131482362747), ('peminjamanbuku', 0.4334169551730156), ('publikasi', 0.41327446699142456), ('organisasiklub', 0.36894214153289795), ('kelas', 0.32284481450915337), ('catatankehadiran', 0.3000359386205673), ('penulispublikasi', 0.2943468987941742), ('dosen', 0.2878614403307438), ('enrolmenkelas', 0.2784087546169758), ('nilai', 0.27142419666051865), ('ujian', 0.2606935277581215), ('bukuperpustakaan', 0.23811274021863937), ('sesi', 0.05461043771356344)]\n",
      "Top Tables: ['fasilitas', 'fasilitasfakultas', 'fakultas']\n",
      "Related Tables: {'fakultas', 'fasilitasfakultas', 'dosen', 'fasilitas', 'jurusan'}\n",
      "Relevant Example: {'relevant_question': 'Which faculty has the most research projects? If there is a tie, show any of the tying faculty. Show the nama and total_proyek.', 'relevant_answer': 'SELECT f.nama, COUNT(p.id_proyek) AS total_proyek\\n  FROM Fakultas f\\n  JOIN ProyekPenelitian p ON f.id_fakultas = p.id_fakultas\\n  GROUP BY f.nama\\n  ORDER BY total_proyek DESC\\n  LIMIT 1;', 'relevant_summary': \"This SQL query identifies the faculty with the highest number of research projects by joining the 'Fakultas' (Faculty) and 'ProyekPenelitian' (Research Projects) tables. It counts projects per faculty and returns the faculty with the most projects, highlighting research activity distribution across faculties. The output helps academic institutions understand research productivity and allocate resources effectively. Key operations include a table JOIN, COUNT aggregation, and ORDER BY with LIMIT to identify the top faculty. The query can be modified to: 1) include time periods to analyze research trends, 2) add funding amounts to assess financial impact, or 3) filter by project status to focus on active research. It helps answer questions like 'Which faculty leads in research output?' and 'How should research funding be allocated across faculties?'\"}\n",
      "Generated SQL Query: SELECT f.nama\n",
      "FROM Fakultas f\n",
      "JOIN FasilitasFakultas ff ON f.id_fakultas = ff.id_fakultas\n",
      "GROUP BY f.nama\n",
      "ORDER BY COUNT(ff.id_fasilitas) DESC\n",
      "LIMIT 1;\n",
      "\n",
      "SELECT f.nama\n",
      "FROM Fakultas f\n",
      "JOIN FasilitasFakultas ff ON f.id_fakultas = ff.id_fakultas\n",
      "GROUP BY f.nama\n",
      "ORDER BY COUNT(ff.id_fasilitas) DESC\n",
      "LIMIT 1;\n"
     ]
    }
   ],
   "source": [
    "# V3\n",
    "query = text_to_sql_model.generate_v3(user_prompt)\n",
    "print(query)"
   ]
  },
  {
   "cell_type": "code",
   "execution_count": 40,
   "id": "8a92a032",
   "metadata": {},
   "outputs": [
    {
     "name": "stdout",
     "output_type": "stream",
     "text": [
      "Rewritten Prompt :Retrieve the faculty that uses the greatest number of facilities.\n",
      "\n",
      "Sub-questions: ['1. Which facilities are used by each faculty? (Join `FasilitasFakultas` and `Fakultas` tables)', '2. Count the number of facilities used by each faculty. (Group the results by faculty ID and count the facilities)', '3. Which faculty has the highest count of facilities? (Find the maximum count and the corresponding faculty ID)', '4. What is the name of the faculty with the highest count of facilities? (Retrieve the faculty name using the faculty ID from the previous step)']\n",
      "Relevant Example: {'relevant_question': 'List all faculties along with their total number of research projects, total publications, and number of lecturers involved in either. Show nama, total_proyek, total_publikasi, total_dosen_aktif.', 'relevant_answer': 'SELECT f.nama,\\n  COUNT(DISTINCT p.id_proyek) AS total_proyek,\\n  COUNT(DISTINCT pb.id_publikasi) AS total_publikasi,\\n  COUNT(DISTINCT d.id_dosen) AS total_dosen_aktif\\n  FROM Fakultas f\\n  LEFT JOIN ProyekPenelitian p ON f.id_fakultas = p.id_fakultas\\n  LEFT JOIN Publikasi pb ON f.id_fakultas = pb.id_fakultas\\n  LEFT JOIN Dosen d ON d.id_fakultas = f.id_fakultas\\n  WHERE d.id_dosen IN (\\n  SELECT id_dosen FROM PenulisPublikasi\\n  UNION\\n  SELECT id_dosen FROM ProyekPenelitian\\n  )\\n  GROUP BY f.nama;', 'relevant_summary': \"This SQL query provides a comprehensive research activity overview by faculty by analyzing three key metrics: research projects, publications, and active faculty members. It joins the 'Fakultas' (Faculties) table with 'ProyekPenelitian' (Research Projects), 'Publikasi' (Publications), and 'Dosen' (Faculty) tables using LEFT JOINs to ensure all faculties are included. The query specifically counts distinct projects, publications, and faculty members who are actively involved in either publishing or research projects. The output helps academic administrators assess research productivity across different faculties and allocate resources effectively. Key operations include multiple LEFT JOINs, COUNT(DISTINCT) aggregations, and a subquery with UNION to identify active faculty. The query can be modified to: 1) add time filters to analyze research trends, 2) include funding amounts to assess financial impact, or 3) calculate ratios like publications per faculty. It helps answer strategic questions like 'Which faculties are most research-productive?' and 'How should research funding be distributed?'\"}\n",
      "Generated SQL Query: SELECT f.nama AS nama_fakultas, fs.nama AS nama_fasilitas\n",
      "FROM FasilitasFakultas ff\n",
      "JOIN Fakultas f ON ff.id_fakultas = f.id_fakultas\n",
      "JOIN Fasilitas fs ON ff.id_fasilitas = fs.id_fasilitas;\n",
      "\n",
      "Relevant Example: {'relevant_question': 'List all faculties along with their total number of research projects, total publications, and number of lecturers involved in either. Show nama, total_proyek, total_publikasi, total_dosen_aktif.', 'relevant_answer': 'SELECT f.nama,\\n  COUNT(DISTINCT p.id_proyek) AS total_proyek,\\n  COUNT(DISTINCT pb.id_publikasi) AS total_publikasi,\\n  COUNT(DISTINCT d.id_dosen) AS total_dosen_aktif\\n  FROM Fakultas f\\n  LEFT JOIN ProyekPenelitian p ON f.id_fakultas = p.id_fakultas\\n  LEFT JOIN Publikasi pb ON f.id_fakultas = pb.id_fakultas\\n  LEFT JOIN Dosen d ON d.id_fakultas = f.id_fakultas\\n  WHERE d.id_dosen IN (\\n  SELECT id_dosen FROM PenulisPublikasi\\n  UNION\\n  SELECT id_dosen FROM ProyekPenelitian\\n  )\\n  GROUP BY f.nama;', 'relevant_summary': \"This SQL query provides a comprehensive research activity overview by faculty by analyzing three key metrics: research projects, publications, and active faculty members. It joins the 'Fakultas' (Faculties) table with 'ProyekPenelitian' (Research Projects), 'Publikasi' (Publications), and 'Dosen' (Faculty) tables using LEFT JOINs to ensure all faculties are included. The query specifically counts distinct projects, publications, and faculty members who are actively involved in either publishing or research projects. The output helps academic administrators assess research productivity across different faculties and allocate resources effectively. Key operations include multiple LEFT JOINs, COUNT(DISTINCT) aggregations, and a subquery with UNION to identify active faculty. The query can be modified to: 1) add time filters to analyze research trends, 2) include funding amounts to assess financial impact, or 3) calculate ratios like publications per faculty. It helps answer strategic questions like 'Which faculties are most research-productive?' and 'How should research funding be distributed?'\"}\n",
      "Generated SQL Query: SELECT id_fakultas, COUNT(id_fasilitas) FROM FasilitasFakultas GROUP BY id_fakultas;\n",
      "\n",
      "Relevant Example: {'relevant_question': 'List all faculties along with their total number of research projects, total publications, and number of lecturers involved in either. Show nama, total_proyek, total_publikasi, total_dosen_aktif.', 'relevant_answer': 'SELECT f.nama,\\n  COUNT(DISTINCT p.id_proyek) AS total_proyek,\\n  COUNT(DISTINCT pb.id_publikasi) AS total_publikasi,\\n  COUNT(DISTINCT d.id_dosen) AS total_dosen_aktif\\n  FROM Fakultas f\\n  LEFT JOIN ProyekPenelitian p ON f.id_fakultas = p.id_fakultas\\n  LEFT JOIN Publikasi pb ON f.id_fakultas = pb.id_fakultas\\n  LEFT JOIN Dosen d ON d.id_fakultas = f.id_fakultas\\n  WHERE d.id_dosen IN (\\n  SELECT id_dosen FROM PenulisPublikasi\\n  UNION\\n  SELECT id_dosen FROM ProyekPenelitian\\n  )\\n  GROUP BY f.nama;', 'relevant_summary': \"This SQL query provides a comprehensive research activity overview by faculty by analyzing three key metrics: research projects, publications, and active faculty members. It joins the 'Fakultas' (Faculties) table with 'ProyekPenelitian' (Research Projects), 'Publikasi' (Publications), and 'Dosen' (Faculty) tables using LEFT JOINs to ensure all faculties are included. The query specifically counts distinct projects, publications, and faculty members who are actively involved in either publishing or research projects. The output helps academic administrators assess research productivity across different faculties and allocate resources effectively. Key operations include multiple LEFT JOINs, COUNT(DISTINCT) aggregations, and a subquery with UNION to identify active faculty. The query can be modified to: 1) add time filters to analyze research trends, 2) include funding amounts to assess financial impact, or 3) calculate ratios like publications per faculty. It helps answer strategic questions like 'Which faculties are most research-productive?' and 'How should research funding be distributed?'\"}\n",
      "Generated SQL Query: SELECT id_fakultas, COUNT(*) AS total_facilities\n",
      "FROM FasilitasFakultas\n",
      "GROUP BY id_fakultas\n",
      "ORDER BY total_facilities DESC\n",
      "LIMIT 1;\n",
      "\n",
      "Relevant Example: {'relevant_question': 'List all faculties along with their total number of research projects, total publications, and number of lecturers involved in either. Show nama, total_proyek, total_publikasi, total_dosen_aktif.', 'relevant_answer': 'SELECT f.nama,\\n  COUNT(DISTINCT p.id_proyek) AS total_proyek,\\n  COUNT(DISTINCT pb.id_publikasi) AS total_publikasi,\\n  COUNT(DISTINCT d.id_dosen) AS total_dosen_aktif\\n  FROM Fakultas f\\n  LEFT JOIN ProyekPenelitian p ON f.id_fakultas = p.id_fakultas\\n  LEFT JOIN Publikasi pb ON f.id_fakultas = pb.id_fakultas\\n  LEFT JOIN Dosen d ON d.id_fakultas = f.id_fakultas\\n  WHERE d.id_dosen IN (\\n  SELECT id_dosen FROM PenulisPublikasi\\n  UNION\\n  SELECT id_dosen FROM ProyekPenelitian\\n  )\\n  GROUP BY f.nama;', 'relevant_summary': \"This SQL query provides a comprehensive research activity overview by faculty by analyzing three key metrics: research projects, publications, and active faculty members. It joins the 'Fakultas' (Faculties) table with 'ProyekPenelitian' (Research Projects), 'Publikasi' (Publications), and 'Dosen' (Faculty) tables using LEFT JOINs to ensure all faculties are included. The query specifically counts distinct projects, publications, and faculty members who are actively involved in either publishing or research projects. The output helps academic administrators assess research productivity across different faculties and allocate resources effectively. Key operations include multiple LEFT JOINs, COUNT(DISTINCT) aggregations, and a subquery with UNION to identify active faculty. The query can be modified to: 1) add time filters to analyze research trends, 2) include funding amounts to assess financial impact, or 3) calculate ratios like publications per faculty. It helps answer strategic questions like 'Which faculties are most research-productive?' and 'How should research funding be distributed?'\"}\n",
      "Generated SQL Query: SELECT nama FROM Fakultas WHERE id_fakultas = (SELECT id_fakultas FROM FasilitasFakultas GROUP BY id_fakultas ORDER BY COUNT(*) DESC LIMIT 1);\n",
      "\n",
      "Steps: [{'step': '1. Which facilities are used by each faculty? (Join `FasilitasFakultas` and `Fakultas` tables)', 'sql': 'SELECT f.nama AS nama_fakultas, fs.nama AS nama_fasilitas\\nFROM FasilitasFakultas ff\\nJOIN Fakultas f ON ff.id_fakultas = f.id_fakultas\\nJOIN Fasilitas fs ON ff.id_fasilitas = fs.id_fasilitas;'}, {'step': '2. Count the number of facilities used by each faculty. (Group the results by faculty ID and count the facilities)', 'sql': 'SELECT id_fakultas, COUNT(id_fasilitas) FROM FasilitasFakultas GROUP BY id_fakultas;'}, {'step': '3. Which faculty has the highest count of facilities? (Find the maximum count and the corresponding faculty ID)', 'sql': 'SELECT id_fakultas, COUNT(*) AS total_facilities\\nFROM FasilitasFakultas\\nGROUP BY id_fakultas\\nORDER BY total_facilities DESC\\nLIMIT 1;'}, {'step': '4. What is the name of the faculty with the highest count of facilities? (Retrieve the faculty name using the faculty ID from the previous step)', 'sql': 'SELECT nama FROM Fakultas WHERE id_fakultas = (SELECT id_fakultas FROM FasilitasFakultas GROUP BY id_fakultas ORDER BY COUNT(*) DESC LIMIT 1);'}]\n",
      "Relevant Example: {'relevant_question': 'Which student has attended the most sessions? If there is a tie, show any of the student. Show nama and total_kehadiran.', 'relevant_answer': 'SELECT m.nama, COUNT(k.id_kehadiran) AS total_kehadiran\\n  FROM Mahasiswa m\\n  JOIN CatatanKehadiran k ON m.id_mahasiswa = k.id_mahasiswa\\n  GROUP BY m.nama\\n  ORDER BY total_kehadiran DESC\\n  LIMIT 1;', 'relevant_summary': \"This SQL query identifies the student with the highest attendance record by joining the 'Mahasiswa' (Students) and 'CatatanKehadiran' (Attendance Records) tables. It counts attendance records per student and returns the student with the most attendances, highlighting exemplary attendance behavior. The output helps academic institutions recognize students with perfect attendance and monitor class participation. Key operations include a table JOIN, COUNT aggregation, and ORDER BY with LIMIT to identify the top student. The query can be modified to: 1) filter by date range to analyze attendance patterns during specific periods, 2) include course information to identify attendance by subject, or 3) calculate attendance percentages rather than absolute counts. It helps answer questions like 'Which student has the best attendance record?' and 'How can we improve overall class attendance rates?'\"}\n",
      "Generated SQL Query: SELECT f.nama FROM Fakultas f JOIN FasilitasFakultas ff ON f.id_fakultas = ff.id_fakultas GROUP BY f.nama ORDER BY COUNT(ff.id_fasilitas) DESC LIMIT 1;\n",
      "\n",
      "SELECT f.nama FROM Fakultas f JOIN FasilitasFakultas ff ON f.id_fakultas = ff.id_fakultas GROUP BY f.nama ORDER BY COUNT(ff.id_fasilitas) DESC LIMIT 1;\n"
     ]
    }
   ],
   "source": [
    "# V4\n",
    "query = text_to_sql_model.generate_v4(user_prompt)\n",
    "print(query)"
   ]
  },
  {
   "cell_type": "code",
   "execution_count": 41,
   "id": "1cbdf505",
   "metadata": {},
   "outputs": [
    {
     "name": "stdout",
     "output_type": "stream",
     "text": [
      "Rewritten Prompt :Retrieve the faculty that uses the greatest number of facilities.\n",
      "\n",
      "Entities: ['fakultas', 'fasilitas', 'fasilitasfakultas']\n",
      "Entity Embeddings: tensor([[-0.0858,  0.0030, -0.1152,  ...,  0.0751,  0.0536,  0.0192],\n",
      "        [-0.0083,  0.0028, -0.0205,  ...,  0.0032,  0.1153,  0.0406],\n",
      "        [-0.0313,  0.0165, -0.0624,  ...,  0.0726,  0.1328,  0.0336]],\n",
      "       device='cuda:0')\n",
      "Similarity Scores: [('fasilitas', 0.915180429816246), ('fasilitasfakultas', 0.8786247670650482), ('fakultas', 0.7151243090629578), ('keanggotaanklub', 0.574022650718689), ('mahasiswa', 0.552211657166481), ('jurusan', 0.5305024534463882), ('hasilujian', 0.5027420520782471), ('matakuliah', 0.4761573076248169), ('partisipasipenelitian', 0.44340774416923523), ('proyekpenelitian', 0.4387131482362747), ('peminjamanbuku', 0.4334169551730156), ('publikasi', 0.41327446699142456), ('organisasiklub', 0.36894214153289795), ('kelas', 0.32284481450915337), ('catatankehadiran', 0.3000359386205673), ('penulispublikasi', 0.2943468987941742), ('dosen', 0.2878614403307438), ('enrolmenkelas', 0.2784087546169758), ('nilai', 0.27142419666051865), ('ujian', 0.2606935277581215), ('bukuperpustakaan', 0.23811274021863937), ('sesi', 0.05461043771356344)]\n",
      "Top Tables: ['fasilitas', 'fasilitasfakultas', 'fakultas']\n",
      "Related Tables: {'fakultas', 'fasilitasfakultas', 'dosen', 'fasilitas', 'jurusan'}\n",
      "Sub-questions: ['1. Which facilities are associated with each faculty? (This requires joining the `FasilitasFakultas` and `Fakultas` tables.)', '2. How many facilities are associated with each faculty? (This requires counting the number of facilities per faculty from the result of step 1.)', '3. Which faculty has the highest number of associated facilities? (This requires finding the maximum count from the result of step 2.)']\n",
      "Relevant Example: {'relevant_question': 'List all faculties along with their total number of research projects, total publications, and number of lecturers involved in either. Show nama, total_proyek, total_publikasi, total_dosen_aktif.', 'relevant_answer': 'SELECT f.nama,\\n  COUNT(DISTINCT p.id_proyek) AS total_proyek,\\n  COUNT(DISTINCT pb.id_publikasi) AS total_publikasi,\\n  COUNT(DISTINCT d.id_dosen) AS total_dosen_aktif\\n  FROM Fakultas f\\n  LEFT JOIN ProyekPenelitian p ON f.id_fakultas = p.id_fakultas\\n  LEFT JOIN Publikasi pb ON f.id_fakultas = pb.id_fakultas\\n  LEFT JOIN Dosen d ON d.id_fakultas = f.id_fakultas\\n  WHERE d.id_dosen IN (\\n  SELECT id_dosen FROM PenulisPublikasi\\n  UNION\\n  SELECT id_dosen FROM ProyekPenelitian\\n  )\\n  GROUP BY f.nama;', 'relevant_summary': \"This SQL query provides a comprehensive research activity overview by faculty by analyzing three key metrics: research projects, publications, and active faculty members. It joins the 'Fakultas' (Faculties) table with 'ProyekPenelitian' (Research Projects), 'Publikasi' (Publications), and 'Dosen' (Faculty) tables using LEFT JOINs to ensure all faculties are included. The query specifically counts distinct projects, publications, and faculty members who are actively involved in either publishing or research projects. The output helps academic administrators assess research productivity across different faculties and allocate resources effectively. Key operations include multiple LEFT JOINs, COUNT(DISTINCT) aggregations, and a subquery with UNION to identify active faculty. The query can be modified to: 1) add time filters to analyze research trends, 2) include funding amounts to assess financial impact, or 3) calculate ratios like publications per faculty. It helps answer strategic questions like 'Which faculties are most research-productive?' and 'How should research funding be distributed?'\"}\n",
      "Generated SQL Query: SELECT f.nama AS nama_fakultas, fs.nama AS nama_fasilitas\n",
      "FROM FasilitasFakultas AS ff\n",
      "JOIN Fakultas AS f ON ff.id_fakultas = f.id_fakultas\n",
      "JOIN Fasilitas AS fs ON ff.id_fasilitas = fs.id_fasilitas;\n",
      "\n",
      "Relevant Example: {'relevant_question': 'List all faculties along with their total number of research projects, total publications, and number of lecturers involved in either. Show nama, total_proyek, total_publikasi, total_dosen_aktif.', 'relevant_answer': 'SELECT f.nama,\\n  COUNT(DISTINCT p.id_proyek) AS total_proyek,\\n  COUNT(DISTINCT pb.id_publikasi) AS total_publikasi,\\n  COUNT(DISTINCT d.id_dosen) AS total_dosen_aktif\\n  FROM Fakultas f\\n  LEFT JOIN ProyekPenelitian p ON f.id_fakultas = p.id_fakultas\\n  LEFT JOIN Publikasi pb ON f.id_fakultas = pb.id_fakultas\\n  LEFT JOIN Dosen d ON d.id_fakultas = f.id_fakultas\\n  WHERE d.id_dosen IN (\\n  SELECT id_dosen FROM PenulisPublikasi\\n  UNION\\n  SELECT id_dosen FROM ProyekPenelitian\\n  )\\n  GROUP BY f.nama;', 'relevant_summary': \"This SQL query provides a comprehensive research activity overview by faculty by analyzing three key metrics: research projects, publications, and active faculty members. It joins the 'Fakultas' (Faculties) table with 'ProyekPenelitian' (Research Projects), 'Publikasi' (Publications), and 'Dosen' (Faculty) tables using LEFT JOINs to ensure all faculties are included. The query specifically counts distinct projects, publications, and faculty members who are actively involved in either publishing or research projects. The output helps academic administrators assess research productivity across different faculties and allocate resources effectively. Key operations include multiple LEFT JOINs, COUNT(DISTINCT) aggregations, and a subquery with UNION to identify active faculty. The query can be modified to: 1) add time filters to analyze research trends, 2) include funding amounts to assess financial impact, or 3) calculate ratios like publications per faculty. It helps answer strategic questions like 'Which faculties are most research-productive?' and 'How should research funding be distributed?'\"}\n",
      "Generated SQL Query: SELECT f.nama, COUNT(ff.id_fasilitas) AS jumlah_fasilitas\n",
      "FROM Fakultas f\n",
      "LEFT JOIN FasilitasFakultas ff ON f.id_fakultas = ff.id_fakultas\n",
      "GROUP BY f.nama;\n",
      "\n",
      "Relevant Example: {'relevant_question': 'Which faculty has the most research projects? If there is a tie, show any of the tying faculty. Show the nama and total_proyek.', 'relevant_answer': 'SELECT f.nama, COUNT(p.id_proyek) AS total_proyek\\n  FROM Fakultas f\\n  JOIN ProyekPenelitian p ON f.id_fakultas = p.id_fakultas\\n  GROUP BY f.nama\\n  ORDER BY total_proyek DESC\\n  LIMIT 1;', 'relevant_summary': \"This SQL query identifies the faculty with the highest number of research projects by joining the 'Fakultas' (Faculty) and 'ProyekPenelitian' (Research Projects) tables. It counts projects per faculty and returns the faculty with the most projects, highlighting research activity distribution across faculties. The output helps academic institutions understand research productivity and allocate resources effectively. Key operations include a table JOIN, COUNT aggregation, and ORDER BY with LIMIT to identify the top faculty. The query can be modified to: 1) include time periods to analyze research trends, 2) add funding amounts to assess financial impact, or 3) filter by project status to focus on active research. It helps answer questions like 'Which faculty leads in research output?' and 'How should research funding be allocated across faculties?'\"}\n",
      "Generated SQL Query: SELECT f.nama\n",
      "FROM Fakultas f\n",
      "JOIN FasilitasFakultas ff ON f.id_fakultas = ff.id_fakultas\n",
      "GROUP BY f.nama\n",
      "ORDER BY COUNT(ff.id_fasilitas) DESC\n",
      "LIMIT 1;\n",
      "\n",
      "Steps: [{'step': '1. Which facilities are associated with each faculty? (This requires joining the `FasilitasFakultas` and `Fakultas` tables.)', 'sql': 'SELECT f.nama AS nama_fakultas, fs.nama AS nama_fasilitas\\nFROM FasilitasFakultas AS ff\\nJOIN Fakultas AS f ON ff.id_fakultas = f.id_fakultas\\nJOIN Fasilitas AS fs ON ff.id_fasilitas = fs.id_fasilitas;'}, {'step': '2. How many facilities are associated with each faculty? (This requires counting the number of facilities per faculty from the result of step 1.)', 'sql': 'SELECT f.nama, COUNT(ff.id_fasilitas) AS jumlah_fasilitas\\nFROM Fakultas f\\nLEFT JOIN FasilitasFakultas ff ON f.id_fakultas = ff.id_fakultas\\nGROUP BY f.nama;'}, {'step': '3. Which faculty has the highest number of associated facilities? (This requires finding the maximum count from the result of step 2.)', 'sql': 'SELECT f.nama\\nFROM Fakultas f\\nJOIN FasilitasFakultas ff ON f.id_fakultas = ff.id_fakultas\\nGROUP BY f.nama\\nORDER BY COUNT(ff.id_fasilitas) DESC\\nLIMIT 1;'}]\n",
      "Relevant Example: {'relevant_question': 'List all faculties along with their total number of research projects, total publications, and number of lecturers involved in either. Show nama, total_proyek, total_publikasi, total_dosen_aktif.', 'relevant_answer': 'SELECT f.nama,\\n  COUNT(DISTINCT p.id_proyek) AS total_proyek,\\n  COUNT(DISTINCT pb.id_publikasi) AS total_publikasi,\\n  COUNT(DISTINCT d.id_dosen) AS total_dosen_aktif\\n  FROM Fakultas f\\n  LEFT JOIN ProyekPenelitian p ON f.id_fakultas = p.id_fakultas\\n  LEFT JOIN Publikasi pb ON f.id_fakultas = pb.id_fakultas\\n  LEFT JOIN Dosen d ON d.id_fakultas = f.id_fakultas\\n  WHERE d.id_dosen IN (\\n  SELECT id_dosen FROM PenulisPublikasi\\n  UNION\\n  SELECT id_dosen FROM ProyekPenelitian\\n  )\\n  GROUP BY f.nama;', 'relevant_summary': \"This SQL query provides a comprehensive research activity overview by faculty by analyzing three key metrics: research projects, publications, and active faculty members. It joins the 'Fakultas' (Faculties) table with 'ProyekPenelitian' (Research Projects), 'Publikasi' (Publications), and 'Dosen' (Faculty) tables using LEFT JOINs to ensure all faculties are included. The query specifically counts distinct projects, publications, and faculty members who are actively involved in either publishing or research projects. The output helps academic administrators assess research productivity across different faculties and allocate resources effectively. Key operations include multiple LEFT JOINs, COUNT(DISTINCT) aggregations, and a subquery with UNION to identify active faculty. The query can be modified to: 1) add time filters to analyze research trends, 2) include funding amounts to assess financial impact, or 3) calculate ratios like publications per faculty. It helps answer strategic questions like 'Which faculties are most research-productive?' and 'How should research funding be distributed?'\"}\n",
      "Generated SQL Query: SELECT f.nama\n",
      "FROM Fakultas f\n",
      "JOIN FasilitasFakultas ff ON f.id_fakultas = ff.id_fakultas\n",
      "GROUP BY f.nama\n",
      "ORDER BY COUNT(ff.id_fasilitas) DESC\n",
      "LIMIT 1;\n",
      "\n",
      "SELECT f.nama\n",
      "FROM Fakultas f\n",
      "JOIN FasilitasFakultas ff ON f.id_fakultas = ff.id_fakultas\n",
      "GROUP BY f.nama\n",
      "ORDER BY COUNT(ff.id_fasilitas) DESC\n",
      "LIMIT 1;\n"
     ]
    }
   ],
   "source": [
    "# V5\n",
    "query = text_to_sql_model.generate_v5(user_prompt)\n",
    "print(query)"
   ]
  }
 ],
 "metadata": {
  "kernelspec": {
   "display_name": "Python 3",
   "language": "python",
   "name": "python3"
  },
  "language_info": {
   "codemirror_mode": {
    "name": "ipython",
    "version": 3
   },
   "file_extension": ".py",
   "mimetype": "text/x-python",
   "name": "python",
   "nbconvert_exporter": "python",
   "pygments_lexer": "ipython3",
   "version": "3.9.6"
  }
 },
 "nbformat": 4,
 "nbformat_minor": 5
}
